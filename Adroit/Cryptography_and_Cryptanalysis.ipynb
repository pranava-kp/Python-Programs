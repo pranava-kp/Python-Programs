{
  "cells": [
    {
      "cell_type": "code",
      "execution_count": 3,
      "metadata": {
        "colab": {
          "base_uri": "https://localhost:8080/"
        },
        "id": "G3hNc9fewEEF",
        "outputId": "61ad3e2e-6d84-4b13-bea3-33f6b59b1275"
      },
      "outputs": [
        {
          "ename": "ValueError",
          "evalue": "invalid literal for int() with base 10: ''",
          "output_type": "error",
          "traceback": [
            "\u001b[1;31m---------------------------------------------------------------------------\u001b[0m",
            "\u001b[1;31mValueError\u001b[0m                                Traceback (most recent call last)",
            "Cell \u001b[1;32mIn[3], line 20\u001b[0m\n\u001b[0;32m     17\u001b[0m     \u001b[38;5;28;01mreturn\u001b[39;00m caesar_encrypt(text, \u001b[38;5;241m-\u001b[39mshift)\n\u001b[0;32m     19\u001b[0m message \u001b[38;5;241m=\u001b[39m \u001b[38;5;28minput\u001b[39m(\u001b[38;5;124m\"\u001b[39m\u001b[38;5;124mEnter your message : \u001b[39m\u001b[38;5;124m\"\u001b[39m)\n\u001b[1;32m---> 20\u001b[0m shift \u001b[38;5;241m=\u001b[39m \u001b[38;5;28;43mint\u001b[39;49m\u001b[43m(\u001b[49m\u001b[38;5;28;43minput\u001b[39;49m\u001b[43m(\u001b[49m\u001b[38;5;124;43m\"\u001b[39;49m\u001b[38;5;124;43mEnter the shift : \u001b[39;49m\u001b[38;5;124;43m\"\u001b[39;49m\u001b[43m)\u001b[49m\u001b[43m)\u001b[49m\n\u001b[0;32m     21\u001b[0m cipher \u001b[38;5;241m=\u001b[39m caesar_encrypt(message,shift)\n\u001b[0;32m     22\u001b[0m \u001b[38;5;28mprint\u001b[39m(\u001b[38;5;124m\"\u001b[39m\u001b[38;5;124mCipher Text: \u001b[39m\u001b[38;5;124m\"\u001b[39m \u001b[38;5;241m+\u001b[39m cipher)\n",
            "\u001b[1;31mValueError\u001b[0m: invalid literal for int() with base 10: ''"
          ]
        }
      ],
      "source": [
        "#CAESAR CIPHER\n",
        "def caesar_encrypt(text, shift):\n",
        "    encrypted = \"\"\n",
        "    for char in text:\n",
        "        if char.isalpha():\n",
        "            shift_val = shift % 26\n",
        "            ascii_val = ord(char) + shift_val\n",
        "            if char.islower():\n",
        "                encrypted += chr(ascii_val) if ascii_val <= ord('z') else chr(ascii_val - 26)\n",
        "            elif char.isupper():\n",
        "                encrypted += chr(ascii_val) if ascii_val <= ord('Z') else chr(ascii_val - 26)\n",
        "        else:\n",
        "            encrypted += char\n",
        "    return encrypted\n",
        "\n",
        "def caesar_decrypt(text, shift):\n",
        "    return caesar_encrypt(text, -shift)\n",
        "\n",
        "message = input(\"Enter your message : \")\n",
        "shift = int(input(\"Enter the shift : \"))\n",
        "cipher = caesar_encrypt(message,shift)\n",
        "print(\"Cipher Text: \" + cipher)\n",
        "message = caesar_decrypt(cipher , shift)\n",
        "print(\"Decrypted Text: \" + message)"
      ]
    },
    {
      "cell_type": "code",
      "execution_count": 2,
      "metadata": {
        "colab": {
          "base_uri": "https://localhost:8080/"
        },
        "id": "m8haUik6yAoB",
        "outputId": "e0f6983b-f1b6-453d-aa12-d234ed7c33f3"
      },
      "outputs": [
        {
          "ename": "NameError",
          "evalue": "name 'caesar_encrypt' is not defined",
          "output_type": "error",
          "traceback": [
            "\u001b[1;31m---------------------------------------------------------------------------\u001b[0m",
            "\u001b[1;31mNameError\u001b[0m                                 Traceback (most recent call last)",
            "Cell \u001b[1;32mIn[2], line 30\u001b[0m\n\u001b[0;32m     28\u001b[0m message \u001b[38;5;241m=\u001b[39m \u001b[38;5;28minput\u001b[39m(\u001b[38;5;124m\"\u001b[39m\u001b[38;5;124mEnter your message : \u001b[39m\u001b[38;5;124m\"\u001b[39m)\n\u001b[0;32m     29\u001b[0m key \u001b[38;5;241m=\u001b[39m \u001b[38;5;28minput\u001b[39m(\u001b[38;5;124m\"\u001b[39m\u001b[38;5;124mEnter the key : \u001b[39m\u001b[38;5;124m\"\u001b[39m)\n\u001b[1;32m---> 30\u001b[0m cipher \u001b[38;5;241m=\u001b[39m \u001b[43mvigenere_encrypt\u001b[49m\u001b[43m(\u001b[49m\u001b[43mmessage\u001b[49m\u001b[43m,\u001b[49m\u001b[43mkey\u001b[49m\u001b[43m)\u001b[49m\n\u001b[0;32m     31\u001b[0m \u001b[38;5;28mprint\u001b[39m(\u001b[38;5;124m\"\u001b[39m\u001b[38;5;124mCipher Text: \u001b[39m\u001b[38;5;124m\"\u001b[39m \u001b[38;5;241m+\u001b[39m cipher)\n\u001b[0;32m     32\u001b[0m message \u001b[38;5;241m=\u001b[39m vigenere_decrypt(cipher , key)\n",
            "Cell \u001b[1;32mIn[2], line 9\u001b[0m, in \u001b[0;36mvigenere_encrypt\u001b[1;34m(plain_text, key)\u001b[0m\n\u001b[0;32m      7\u001b[0m \u001b[38;5;28;01mif\u001b[39;00m char\u001b[38;5;241m.\u001b[39misalpha():\n\u001b[0;32m      8\u001b[0m     shift \u001b[38;5;241m=\u001b[39m \u001b[38;5;28mord\u001b[39m(key[key_index]) \u001b[38;5;241m-\u001b[39m \u001b[38;5;28mord\u001b[39m(\u001b[38;5;124m'\u001b[39m\u001b[38;5;124mA\u001b[39m\u001b[38;5;124m'\u001b[39m)\n\u001b[1;32m----> 9\u001b[0m     encrypted\u001b[38;5;241m.\u001b[39mappend(\u001b[43mcaesar_encrypt\u001b[49m(char, shift))\n\u001b[0;32m     10\u001b[0m     key_index \u001b[38;5;241m=\u001b[39m (key_index \u001b[38;5;241m+\u001b[39m \u001b[38;5;241m1\u001b[39m) \u001b[38;5;241m%\u001b[39m \u001b[38;5;28mlen\u001b[39m(key)\n\u001b[0;32m     11\u001b[0m \u001b[38;5;28;01melse\u001b[39;00m:\n",
            "\u001b[1;31mNameError\u001b[0m: name 'caesar_encrypt' is not defined"
          ]
        }
      ],
      "source": [
        "#VIGINERE CIPHER\n",
        "def vigenere_encrypt(plain_text, key):\n",
        "    key = key.upper()\n",
        "    encrypted = []\n",
        "    key_index = 0\n",
        "    for char in plain_text:\n",
        "        if char.isalpha():\n",
        "            shift = ord(key[key_index]) - ord('A')\n",
        "            encrypted.append(caesar_encrypt(char, shift))\n",
        "            key_index = (key_index + 1) % len(key)\n",
        "        else:\n",
        "            encrypted.append(char)\n",
        "    return ''.join(encrypted)\n",
        "\n",
        "def vigenere_decrypt(cipher_text, key):\n",
        "    key = key.upper()\n",
        "    decrypted = []\n",
        "    key_index = 0\n",
        "    for char in cipher_text:\n",
        "        if char.isalpha():\n",
        "            shift = -(ord(key[key_index]) - ord('A'))\n",
        "            decrypted.append(caesar_encrypt(char, shift))\n",
        "            key_index = (key_index + 1) % len(key)\n",
        "        else:\n",
        "            decrypted.append(char)\n",
        "    return ''.join(decrypted)\n",
        "\n",
        "message = input(\"Enter your message : \")\n",
        "key = input(\"Enter the key : \")\n",
        "cipher = vigenere_encrypt(message,key)\n",
        "print(\"Cipher Text: \" + cipher)\n",
        "message = vigenere_decrypt(cipher , key)\n",
        "print(\"Decrypted Text: \" + message)"
      ]
    },
    {
      "cell_type": "code",
      "execution_count": 3,
      "metadata": {
        "colab": {
          "base_uri": "https://localhost:8080/"
        },
        "id": "EJ0lLuhsyx-q",
        "outputId": "e207d1f4-fab0-4e3b-f7b7-8de92aefba83"
      },
      "outputs": [
        {
          "name": "stdout",
          "output_type": "stream",
          "text": [
            "Cipher Text: \f\u001f\u0007\u0004\u0017\u0014\u0015\u0007P\n",
            "Decrypted Text: meetmeat8\n"
          ]
        }
      ],
      "source": [
        "#VERNAM CIPHER\n",
        "def vernam_encrypt(plain_text, key):\n",
        "    return ''.join([chr(ord(c) ^ ord(k)) for c, k in zip(plain_text, key)])\n",
        "\n",
        "def vernam_decrypt(cipher_text, key):\n",
        "    return vernam_encrypt(cipher_text, key)  # XOR is reversible\n",
        "\n",
        "message = input(\"Enter your message : \")\n",
        "key = input(\"Enter the key : \")\n",
        "cipher = vernam_encrypt(message,key)\n",
        "print(\"Cipher Text: \" + cipher)\n",
        "message = vernam_decrypt(cipher , key)\n",
        "print(\"Decrypted Text: \" + message)"
      ]
    },
    {
      "cell_type": "code",
      "execution_count": 43,
      "metadata": {
        "colab": {
          "base_uri": "https://localhost:8080/"
        },
        "id": "xq0N8zL-zpxq",
        "outputId": "0fa9e4c4-fab3-4a89-af3e-4aeb84feb1fb"
      },
      "outputs": [
        {
          "name": "stdout",
          "output_type": "stream",
          "text": [
            "Enter the text: the thief ran away left to the shop\n",
            "Ciphertext: AVRZTCBHZINAOSBZBHKDVTHIXTJZ\n",
            "Decrypted: THETHIEFRANAWAYLEFTTOTHESHOP\n"
          ]
        }
      ],
      "source": [
        "#HILL CIPHER\n",
        "import numpy as np\n",
        "\n",
        "def mod_inverse(a, m):\n",
        "    \"\"\"Finds the modular inverse of a under mod m.\"\"\"\n",
        "    a = a % m\n",
        "    for x in range(1, m):\n",
        "        if (a * x) % m == 1:\n",
        "            return x\n",
        "    return -1\n",
        "\n",
        "def encrypt_hill(plaintext, key_matrix):\n",
        "    \"\"\"Encrypt plaintext using Hill cipher.\"\"\"\n",
        "    plaintext = plaintext.upper().replace(\" \", \"\")\n",
        "    if len(plaintext) % 2 != 0:\n",
        "        plaintext += 'X'  # Padding if plaintext length is odd\n",
        "\n",
        "    plaintext_nums = [ord(char) - ord('A') for char in plaintext]\n",
        "    plaintext_matrix = np.array(plaintext_nums).reshape(-1, 2).T\n",
        "    ciphertext_matrix = np.dot(key_matrix, plaintext_matrix) % 26\n",
        "    ciphertext = ''.join(chr(int(num) + ord('A')) for num in ciphertext_matrix.T.flatten())\n",
        "    return ciphertext\n",
        "\n",
        "def decrypt_hill(ciphertext, key_matrix):\n",
        "    \"\"\"Decrypt ciphertext using Hill cipher.\"\"\"\n",
        "    det = int(np.round(np.linalg.det(key_matrix)))  # Determinant of key matrix\n",
        "    inv_det = mod_inverse(det, 26)\n",
        "\n",
        "    key_matrix_inv = inv_det * np.round(np.linalg.inv(key_matrix) * det) % 26\n",
        "    key_matrix_inv = key_matrix_inv.astype(int) % 26\n",
        "\n",
        "    ciphertext_nums = [ord(char) - ord('A') for char in ciphertext]\n",
        "    ciphertext_matrix = np.array(ciphertext_nums).reshape(-1, 2).T\n",
        "    plaintext_matrix = np.dot(key_matrix_inv, ciphertext_matrix) % 26\n",
        "    plaintext = ''.join(chr(int(num) + ord('A')) for num in plaintext_matrix.T.flatten())\n",
        "    return plaintext\n",
        "\n",
        "# Example usage\n",
        "key_matrix = np.array([[3, 3], [2, 5]])\n",
        "plaintext = input(\"Enter the text: \")\n",
        "ciphertext = encrypt_hill(plaintext, key_matrix)\n",
        "print(f\"Ciphertext: {ciphertext}\")\n",
        "\n",
        "decrypted_text = decrypt_hill(ciphertext, key_matrix)\n",
        "print(f\"Decrypted: {decrypted_text}\")"
      ]
    },
    {
      "cell_type": "code",
      "execution_count": 44,
      "metadata": {
        "colab": {
          "base_uri": "https://localhost:8080/"
        },
        "id": "occ843Aq0Sui",
        "outputId": "f7b9b2a4-f394-4f0c-d087-6811ecee5856"
      },
      "outputs": [
        {
          "name": "stdout",
          "output_type": "stream",
          "text": [
            "Enter the cipher text: whmdv\n",
            "\n",
            "Breaking Caesar Cipher:\n",
            "Trying shift 1: vglcu\n",
            "Trying shift 2: ufkbt\n",
            "Trying shift 3: tejas\n",
            "Trying shift 4: sdizr\n",
            "Trying shift 5: rchyq\n",
            "Trying shift 6: qbgxp\n",
            "Trying shift 7: pafwo\n",
            "Trying shift 8: ozevn\n",
            "Trying shift 9: nydum\n",
            "Trying shift 10: mxctl\n",
            "Trying shift 11: lwbsk\n",
            "Trying shift 12: kvarj\n",
            "Trying shift 13: juzqi\n",
            "Trying shift 14: ityph\n",
            "Trying shift 15: hsxog\n",
            "Trying shift 16: grwnf\n",
            "Trying shift 17: fqvme\n",
            "Trying shift 18: epuld\n",
            "Trying shift 19: dotkc\n",
            "Trying shift 20: cnsjb\n",
            "Trying shift 21: bmria\n",
            "Trying shift 22: alqhz\n",
            "Trying shift 23: zkpgy\n",
            "Trying shift 24: yjofx\n",
            "Trying shift 25: xinew\n"
          ]
        }
      ],
      "source": [
        "#BREAKING CAESAR CIPHER\n",
        "def caesar_decrypt(cipher_text, shift):\n",
        "    decrypted_text = \"\"\n",
        "    for char in cipher_text:\n",
        "        # Check if character is an uppercase letter\n",
        "        if char.isupper():\n",
        "            decrypted_text += chr((ord(char) - shift - 65) % 26 + 65)\n",
        "        # Check if character is a lowercase letter\n",
        "        elif char.islower():\n",
        "            decrypted_text += chr((ord(char) - shift - 97) % 26 + 97)\n",
        "        else:\n",
        "            # Non-alphabetical characters remain unchanged\n",
        "            decrypted_text += char\n",
        "    return decrypted_text\n",
        "\n",
        "def break_caesar(cipher_text):\n",
        "    for shift in range(1, 26):  # Try all shifts from 1 to 25\n",
        "        print(f\"Trying shift {shift}: {caesar_decrypt(cipher_text, shift)}\")\n",
        "\n",
        "cipher_text = input(\"Enter the cipher text: \")\n",
        "print(\"\\nBreaking Caesar Cipher:\")\n",
        "break_caesar(cipher_text)"
      ]
    },
    {
      "cell_type": "code",
      "execution_count": 1,
      "metadata": {
        "colab": {
          "base_uri": "https://localhost:8080/",
          "height": 396
        },
        "id": "afMvITch1Mjx",
        "outputId": "0c90ef7a-4ac8-4c77-e969-4702e5d6299d"
      },
      "outputs": [
        {
          "ename": "ModuleNotFoundError",
          "evalue": "No module named 'cv2'",
          "output_type": "error",
          "traceback": [
            "\u001b[1;31m---------------------------------------------------------------------------\u001b[0m",
            "\u001b[1;31mModuleNotFoundError\u001b[0m                       Traceback (most recent call last)",
            "Cell \u001b[1;32mIn[1], line 2\u001b[0m\n\u001b[0;32m      1\u001b[0m \u001b[38;5;66;03m#CAESER CIPHER FOR IMAGES\u001b[39;00m\n\u001b[1;32m----> 2\u001b[0m \u001b[38;5;28;01mimport\u001b[39;00m \u001b[38;5;21;01mcv2\u001b[39;00m\n\u001b[0;32m      3\u001b[0m \u001b[38;5;28;01mimport\u001b[39;00m \u001b[38;5;21;01mnumpy\u001b[39;00m \u001b[38;5;28;01mas\u001b[39;00m \u001b[38;5;21;01mnp\u001b[39;00m\n\u001b[0;32m      4\u001b[0m \u001b[38;5;28;01mimport\u001b[39;00m \u001b[38;5;21;01mmatplotlib\u001b[39;00m\u001b[38;5;21;01m.\u001b[39;00m\u001b[38;5;21;01mpyplot\u001b[39;00m \u001b[38;5;28;01mas\u001b[39;00m \u001b[38;5;21;01mplt\u001b[39;00m\n",
            "\u001b[1;31mModuleNotFoundError\u001b[0m: No module named 'cv2'"
          ]
        }
      ],
      "source": [
        "#CAESER CIPHER FOR IMAGES\n",
        "import cv2\n",
        "import numpy as np\n",
        "import matplotlib.pyplot as plt\n",
        "from google.colab.patches import cv2_imshow\n",
        "\n",
        "# Function to apply Caesar Cipher encryption to an image\n",
        "def caesar_cipher_image(image, shift):\n",
        "    img = np.array(image)  # Convert the image to a numpy array\n",
        "    encrypted_img = (img + shift) % 256  # Apply the shift and wrap around using modulo 256\n",
        "    return encrypted_img\n",
        "\n",
        "# Function to apply Caesar Cipher decryption to an image\n",
        "def caesar_decipher_image(image, shift):\n",
        "    img = np.array(image)\n",
        "    decrypted_img = (img - shift) % 256  # Reverse the shift using subtraction and wrap around with modulo 256\n",
        "    return decrypted_img\n",
        "\n",
        "# Load the image in grayscale (0 indicates grayscale mode)\n",
        "image = cv2.imread('image.jpeg')\n",
        "shift =   int(input(\"Enter shift value: \"))  # Shift value for Caesar cipher\n",
        "\n",
        "# Encrypt the image\n",
        "encrypted_image = caesar_cipher_image(image, shift)\n",
        "\n",
        "# Decrypt the image\n",
        "decrypted_image = caesar_decipher_image(encrypted_image, shift)\n",
        "\n",
        "# Resize the images to fit within a confined box (e.g., 300x300 pixels)\n",
        "confined_size = (300, 300)\n",
        "resized_original = cv2.resize(image, confined_size)\n",
        "resized_encrypted = cv2.resize(encrypted_image, confined_size)\n",
        "resized_decrypted = cv2.resize(decrypted_image, confined_size)\n",
        "\n",
        "# Displaying the resized original, encrypted, and decrypted images\n",
        "plt.figure(figsize=(15, 5))\n",
        "\n",
        "# Display original image\n",
        "plt.subplot(1, 3, 1)\n",
        "plt.imshow(resized_original)\n",
        "plt.title(\"Original Image\")\n",
        "plt.axis('off')\n",
        "\n",
        "# Display encrypted image\n",
        "plt.subplot(1, 3, 2)\n",
        "plt.imshow(resized_encrypted)\n",
        "plt.title(\"Encrypted Image\")\n",
        "plt.axis('off')\n",
        "\n",
        "plt.subplot(1, 3, 3)\n",
        "plt.imshow(resized_decrypted)\n",
        "plt.title(\"Decrypted Image\")\n",
        "plt.axis('off')\n",
        "\n",
        "plt.show()"
      ]
    },
    {
      "cell_type": "code",
      "execution_count": 3,
      "metadata": {
        "colab": {
          "base_uri": "https://localhost:8080/",
          "height": 378
        },
        "id": "po_-0TEK3lNO",
        "outputId": "130eedb3-4419-4164-920c-18c58b16d528"
      },
      "outputs": [
        {
          "ename": "ModuleNotFoundError",
          "evalue": "No module named 'cv2'",
          "output_type": "error",
          "traceback": [
            "\u001b[1;31m---------------------------------------------------------------------------\u001b[0m",
            "\u001b[1;31mModuleNotFoundError\u001b[0m                       Traceback (most recent call last)",
            "Cell \u001b[1;32mIn[3], line 2\u001b[0m\n\u001b[0;32m      1\u001b[0m \u001b[38;5;66;03m#IMAGE ENCRYPTION USING XOR\u001b[39;00m\n\u001b[1;32m----> 2\u001b[0m \u001b[38;5;28;01mimport\u001b[39;00m \u001b[38;5;21;01mcv2\u001b[39;00m\n\u001b[0;32m      3\u001b[0m \u001b[38;5;28;01mimport\u001b[39;00m \u001b[38;5;21;01mnumpy\u001b[39;00m \u001b[38;5;28;01mas\u001b[39;00m \u001b[38;5;21;01mnp\u001b[39;00m\n\u001b[0;32m      4\u001b[0m \u001b[38;5;28;01mfrom\u001b[39;00m \u001b[38;5;21;01mgoogle\u001b[39;00m\u001b[38;5;21;01m.\u001b[39;00m\u001b[38;5;21;01mcolab\u001b[39;00m\u001b[38;5;21;01m.\u001b[39;00m\u001b[38;5;21;01mpatches\u001b[39;00m \u001b[38;5;28;01mimport\u001b[39;00m cv2_imshow  \u001b[38;5;66;03m# Use this in Colab to display images\u001b[39;00m\n",
            "\u001b[1;31mModuleNotFoundError\u001b[0m: No module named 'cv2'"
          ]
        }
      ],
      "source": [
        "#IMAGE ENCRYPTION USING XOR\n",
        "import cv2\n",
        "import numpy as np\n",
        "from google.colab.patches import cv2_imshow  # Use this in Colab to display images\n",
        "import matplotlib.pyplot as plt\n",
        "\n",
        "# Function to apply XOR cipher on an image\n",
        "def xor_cipher_image(image, key):\n",
        "    img = np.array(image)  # Convert the image to a numpy array\n",
        "    encrypted_img = np.bitwise_xor(img, key)  # Perform XOR between image and key\n",
        "    return encrypted_img\n",
        "\n",
        "# Load the image in grayscale (0 indicates grayscale mode)\n",
        "image = cv2.imread(r\"C:\\Users\\prana\\Downloads\\Screenshot 2024-10-22 184310.png\")\n",
        "\n",
        "# Create a random key with the same shape as the image, containing values between 0-255\n",
        "key = np.random.randint(0, 256, size=image.shape, dtype=np.uint8)\n",
        "\n",
        "# Encrypt the image using XOR cipher\n",
        "encrypted_image = xor_cipher_image(image, key)\n",
        "\n",
        "# Decrypt the image (XOR is reversible with the same key)\n",
        "decrypted_image = xor_cipher_image(encrypted_image, key)\n",
        "\n",
        "# Optionally, resize the images for better display (e.g., to fit within 300x300 box)\n",
        "confined_size = (300, 300)\n",
        "resized_original = cv2.resize(image, confined_size)\n",
        "resized_encrypted = cv2.resize(encrypted_image, confined_size)\n",
        "resized_decrypted = cv2.resize(decrypted_image, confined_size)\n",
        "\n",
        "# Display the original, encrypted, and decrypted images in Colab\n",
        "plt.figure(figsize=(15, 5))\n",
        "\n",
        "# Display original image\n",
        "plt.subplot(1, 3, 1)\n",
        "plt.imshow(resized_original)\n",
        "plt.title(\"Original Image\")\n",
        "plt.axis('off')\n",
        "\n",
        "# Display encrypted image\n",
        "plt.subplot(1, 3, 2)\n",
        "plt.imshow(resized_encrypted)\n",
        "plt.title(\"Encrypted Image\")\n",
        "plt.axis('off')\n",
        "\n",
        "plt.subplot(1, 3, 3)\n",
        "plt.imshow(resized_decrypted)\n",
        "plt.title(\"Decrypted Image\")\n",
        "plt.axis('off')\n",
        "\n",
        "plt.show()"
      ]
    },
    {
      "cell_type": "code",
      "execution_count": 1,
      "metadata": {
        "colab": {
          "base_uri": "https://localhost:8080/",
          "height": 388
        },
        "id": "6ttvXxb033n4",
        "outputId": "05492756-f81f-49b0-dd4c-1d9f29ca9ad3"
      },
      "outputs": [
        {
          "ename": "ModuleNotFoundError",
          "evalue": "No module named 'matplotlib'",
          "output_type": "error",
          "traceback": [
            "\u001b[1;31m---------------------------------------------------------------------------\u001b[0m",
            "\u001b[1;31mModuleNotFoundError\u001b[0m                       Traceback (most recent call last)",
            "Cell \u001b[1;32mIn[1], line 3\u001b[0m\n\u001b[0;32m      1\u001b[0m \u001b[38;5;28;01mimport\u001b[39;00m \u001b[38;5;21;01mnumpy\u001b[39;00m \u001b[38;5;28;01mas\u001b[39;00m \u001b[38;5;21;01mnp\u001b[39;00m\n\u001b[0;32m      2\u001b[0m \u001b[38;5;28;01mfrom\u001b[39;00m \u001b[38;5;21;01mPIL\u001b[39;00m \u001b[38;5;28;01mimport\u001b[39;00m Image\n\u001b[1;32m----> 3\u001b[0m \u001b[38;5;28;01mimport\u001b[39;00m \u001b[38;5;21;01mmatplotlib\u001b[39;00m\u001b[38;5;21;01m.\u001b[39;00m\u001b[38;5;21;01mpyplot\u001b[39;00m \u001b[38;5;28;01mas\u001b[39;00m \u001b[38;5;21;01mplt\u001b[39;00m\n\u001b[0;32m      5\u001b[0m \u001b[38;5;66;03m# Function to encrypt an image using Hill Cipher\u001b[39;00m\n\u001b[0;32m      6\u001b[0m \u001b[38;5;28;01mdef\u001b[39;00m \u001b[38;5;21mhill_cipher_encrypt\u001b[39m(image_data, key_matrix):\n",
            "\u001b[1;31mModuleNotFoundError\u001b[0m: No module named 'matplotlib'"
          ]
        }
      ],
      "source": [
        "import numpy as np\n",
        "from PIL import Image\n",
        "import matplotlib.pyplot as plt\n",
        "\n",
        "# Function to encrypt an image using Hill Cipher\n",
        "def hill_cipher_encrypt(image_data, key_matrix):\n",
        "    rows, cols = image_data.shape\n",
        "    encrypted_image_data = np.zeros_like(image_data)\n",
        "\n",
        "    # Encrypt each 2x2 block\n",
        "    for i in range(0, rows, 2):\n",
        "        for j in range(0, cols, 2):\n",
        "            # Get the block of 2x2 pixels\n",
        "            block = np.array([[image_data[i, j], image_data[i, j + 1]],\n",
        "                              [image_data[i + 1, j], image_data[i + 1, j + 1]]])\n",
        "\n",
        "            # Perform matrix multiplication and mod 256\n",
        "            encrypted_block = np.dot(key_matrix, block) % 256\n",
        "            encrypted_image_data[i:i + 2, j:j + 2] = encrypted_block\n",
        "\n",
        "    return encrypted_image_data\n",
        "\n",
        "# Function to display original, encrypted, and decrypted images side by side\n",
        "def display_images(original, encrypted):\n",
        "    plt.figure(figsize=(15, 5))\n",
        "\n",
        "    # Display original image\n",
        "    plt.subplot(1, 2, 1)\n",
        "    plt.imshow(original, cmap='gray')\n",
        "    plt.title(\"Original Image\")\n",
        "    plt.axis('off')\n",
        "\n",
        "    # Display encrypted image\n",
        "    plt.subplot(1, 2, 2)\n",
        "    plt.imshow(encrypted, cmap='gray')\n",
        "    plt.title(\"Encrypted Image\")\n",
        "    plt.axis('off')\n",
        "\n",
        "    plt.show()\n",
        "\n",
        "# Define a 2x2 invertible key matrix\n",
        "key_matrix = np.array([[3, 3], [2, 5]])\n",
        "\n",
        "# Path to the image\n",
        "image_path = r\"C:\\Users\\prana\\Downloads\\Screenshot 2024-10-22 184310.png\"  # Replace this with the actual image path\n",
        "\n",
        "# Load image and convert to grayscale\n",
        "original_image = Image.open(image_path).convert('L')\n",
        "original_image_data = np.array(original_image)\n",
        "\n",
        "# Ensure the image can be divided into 2x2 blocks by trimming odd dimensions\n",
        "rows, cols = original_image_data.shape\n",
        "if rows % 2 != 0:\n",
        "    rows -= 1\n",
        "if cols % 2 != 0:\n",
        "    cols -= 1\n",
        "original_image_data = original_image_data[:rows, :cols]\n",
        "\n",
        "# Encrypt the image\n",
        "encrypted_image_data = hill_cipher_encrypt(original_image_data, key_matrix)\n",
        "\n",
        "# Display the images\n",
        "display_images(original_image_data, encrypted_image_data)"
      ]
    }
  ],
  "metadata": {
    "colab": {
      "provenance": []
    },
    "kernelspec": {
      "display_name": "Python 3",
      "name": "python3"
    },
    "language_info": {
      "codemirror_mode": {
        "name": "ipython",
        "version": 3
      },
      "file_extension": ".py",
      "mimetype": "text/x-python",
      "name": "python",
      "nbconvert_exporter": "python",
      "pygments_lexer": "ipython3",
      "version": "3.12.7"
    }
  },
  "nbformat": 4,
  "nbformat_minor": 0
}
