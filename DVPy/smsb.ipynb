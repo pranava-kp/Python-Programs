{
 "cells": [
  {
   "cell_type": "code",
   "execution_count": 1,
   "metadata": {},
   "outputs": [
    {
     "name": "stdout",
     "output_type": "stream",
     "text": [
      "Constructed Tree:\n",
      "  2  5  6  10  12  14  15"
     ]
    }
   ],
   "source": [
    "class Node:\n",
    "    def __init__(self, data):\n",
    "        self.data = data\n",
    "        self.left = None\n",
    "        self.right = None\n",
    "\n",
    "def make_b_tree(in_order, pre_order, i_start, i_end):\n",
    "    global p_index\n",
    "    if i_start > i_end:\n",
    "        return None\n",
    "\n",
    "    root = Node(pre_order[p_index])\n",
    "    p_index += 1\n",
    "\n",
    "    if i_start == i_end:\n",
    "        return root\n",
    "\n",
    "    index = get_in_order_index(in_order, i_start, i_end, root.data)\n",
    "    root.left = make_b_tree(in_order, pre_order, i_start, index - 1)\n",
    "    root.right = make_b_tree(in_order, pre_order, index + 1, i_end)\n",
    "\n",
    "    return root\n",
    "\n",
    "def get_in_order_index(in_order, start, end, data):\n",
    "    for i in range(start, end + 1):\n",
    "        if in_order[i] == data:\n",
    "            return i\n",
    "    return -1\n",
    "\n",
    "def print_in_order(root):\n",
    "    if root is not None:\n",
    "        print_in_order(root.left)\n",
    "        print(\" \", root.data, end=\"\")\n",
    "        print_in_order(root.right)\n",
    "\n",
    "if __name__ == \"__main__\":\n",
    "    in_order = [2, 5, 6, 10, 12, 14, 15]\n",
    "    pre_order = [10, 5, 2, 6, 14, 12, 15]\n",
    "    p_index = 0\n",
    "    \n",
    "    root_node = make_b_tree(in_order, pre_order, 0, len(in_order) - 1)\n",
    "    \n",
    "    print(\"Constructed Tree:\")\n",
    "    print_in_order(root_node)"
   ]
  },
  {
   "cell_type": "code",
   "execution_count": null,
   "metadata": {},
   "outputs": [],
   "source": []
  }
 ],
 "metadata": {
  "kernelspec": {
   "display_name": "Python 3",
   "language": "python",
   "name": "python3"
  },
  "language_info": {
   "codemirror_mode": {
    "name": "ipython",
    "version": 3
   },
   "file_extension": ".py",
   "mimetype": "text/x-python",
   "name": "python",
   "nbconvert_exporter": "python",
   "pygments_lexer": "ipython3",
   "version": "3.11.8"
  }
 },
 "nbformat": 4,
 "nbformat_minor": 2
}
