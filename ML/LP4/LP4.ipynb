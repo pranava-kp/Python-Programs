{
 "cells": [
  {
   "cell_type": "markdown",
   "metadata": {},
   "source": [
    "For a given set of training data examples stored in a .CSV file, implement and demonstrate the Find-S\n",
    "algorithm to output a description of the set of all hypotheses consistent with the training examples."
   ]
  },
  {
   "cell_type": "code",
   "execution_count": null,
   "metadata": {},
   "outputs": [],
   "source": [
    "import pandas as pd"
   ]
  },
  {
   "cell_type": "code",
   "execution_count": 1,
   "metadata": {},
   "outputs": [],
   "source": [
    "\n",
    "def find_s_algorithm(file_path):\n",
    "    data = pd.read_csv(file_path)  # Load dataset\n",
    "    print(\"\\nTraining Data:\\n\", data)\n",
    "\n",
    "    attributes = data.columns[:-1]  # Get attribute names\n",
    "    label = data.columns[-1]  # Get target column\n",
    "\n",
    "    # Step 1: Initialize hypothesis with the first positive example\n",
    "    hypothesis = None  \n",
    "    for index, row in data.iterrows():\n",
    "        if row[label] == 'Yes':  # Find first positive example\n",
    "            hypothesis = list(row[attributes])  \n",
    "            break  \n",
    "\n",
    "    # Step 2: Compare with other positive examples to generalize\n",
    "    for index, row in data.iterrows():\n",
    "        if row[label] == 'Yes':\n",
    "            for i in range(len(attributes)):\n",
    "                if hypothesis[i] != row[attributes[i]]:  \n",
    "                    hypothesis[i] = '?'  # Generalize hypothesis\n",
    "\n",
    "    return hypothesis"
   ]
  },
  {
   "cell_type": "code",
   "execution_count": null,
   "metadata": {},
   "outputs": [],
   "source": [
    "# File path to training data\n",
    "file = r\"\""
   ]
  },
  {
   "cell_type": "code",
   "execution_count": 3,
   "metadata": {},
   "outputs": [
    {
     "ename": "NameError",
     "evalue": "name 'pd' is not defined",
     "output_type": "error",
     "traceback": [
      "\u001b[1;31m---------------------------------------------------------------------------\u001b[0m",
      "\u001b[1;31mNameError\u001b[0m                                 Traceback (most recent call last)",
      "Cell \u001b[1;32mIn[3], line 2\u001b[0m\n\u001b[0;32m      1\u001b[0m \u001b[38;5;66;03m# Run Find-S algorithm\u001b[39;00m\n\u001b[1;32m----> 2\u001b[0m hypothesis \u001b[38;5;241m=\u001b[39m \u001b[43mfind_s_algorithm\u001b[49m\u001b[43m(\u001b[49m\u001b[43mfile\u001b[49m\u001b[43m)\u001b[49m\n\u001b[0;32m      3\u001b[0m \u001b[38;5;28mprint\u001b[39m(\u001b[38;5;124m\"\u001b[39m\u001b[38;5;130;01m\\n\u001b[39;00m\u001b[38;5;124mThe final hypothesis is:\u001b[39m\u001b[38;5;124m\"\u001b[39m, hypothesis)\n",
      "Cell \u001b[1;32mIn[1], line 2\u001b[0m, in \u001b[0;36mfind_s_algorithm\u001b[1;34m(file_path)\u001b[0m\n\u001b[0;32m      1\u001b[0m \u001b[38;5;28;01mdef\u001b[39;00m \u001b[38;5;21mfind_s_algorithm\u001b[39m(file_path):\n\u001b[1;32m----> 2\u001b[0m     data \u001b[38;5;241m=\u001b[39m \u001b[43mpd\u001b[49m\u001b[38;5;241m.\u001b[39mread_csv(file_path)  \u001b[38;5;66;03m# Load dataset\u001b[39;00m\n\u001b[0;32m      3\u001b[0m     \u001b[38;5;28mprint\u001b[39m(\u001b[38;5;124m\"\u001b[39m\u001b[38;5;130;01m\\n\u001b[39;00m\u001b[38;5;124mTraining Data:\u001b[39m\u001b[38;5;130;01m\\n\u001b[39;00m\u001b[38;5;124m\"\u001b[39m, data)\n\u001b[0;32m      5\u001b[0m     attributes \u001b[38;5;241m=\u001b[39m data\u001b[38;5;241m.\u001b[39mcolumns[:\u001b[38;5;241m-\u001b[39m\u001b[38;5;241m1\u001b[39m]  \u001b[38;5;66;03m# Get attribute names\u001b[39;00m\n",
      "\u001b[1;31mNameError\u001b[0m: name 'pd' is not defined"
     ]
    }
   ],
   "source": [
    "# Run Find-S algorithm\n",
    "hypothesis = find_s_algorithm(file)\n",
    "print(\"\\nThe final hypothesis is:\", hypothesis)"
   ]
  }
 ],
 "metadata": {
  "kernelspec": {
   "display_name": "Python 3",
   "language": "python",
   "name": "python3"
  },
  "language_info": {
   "codemirror_mode": {
    "name": "ipython",
    "version": 3
   },
   "file_extension": ".py",
   "mimetype": "text/x-python",
   "name": "python",
   "nbconvert_exporter": "python",
   "pygments_lexer": "ipython3",
   "version": "3.11.9"
  }
 },
 "nbformat": 4,
 "nbformat_minor": 2
}
