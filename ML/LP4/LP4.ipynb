{
 "cells": [
  {
   "cell_type": "markdown",
   "metadata": {},
   "source": [
    "For a given set of training data examples stored in a .CSV file, implement and demonstrate the Find-S\n",
    "algorithm to output a description of the set of all hypotheses consistent with the training examples."
   ]
  },
  {
   "cell_type": "code",
   "execution_count": null,
   "metadata": {},
   "outputs": [],
   "source": [
    "import pandas as pd"
   ]
  },
  {
   "cell_type": "code",
   "execution_count": null,
   "metadata": {},
   "outputs": [],
   "source": [
    "\n",
    "def find_s_algorithm(file_path):\n",
    "    data = pd.read_csv(file_path)  # Load dataset\n",
    "    print(\"\\nTraining Data:\\n\", data)\n",
    "\n",
    "    attributes = data.columns[:-1]  # Get attribute names\n",
    "    label = data.columns[-1]  # Get target column\n",
    "\n",
    "    # Step 1: Initialize hypothesis with the first positive example\n",
    "    hypothesis = None  \n",
    "    for index, row in data.iterrows():\n",
    "        if row[label] == 'Yes':  # Find first positive example\n",
    "            hypothesis = list(row[attributes])  \n",
    "            break  \n",
    "\n",
    "    # Step 2: Compare with other positive examples to generalize\n",
    "    for index, row in data.iterrows():\n",
    "        if row[label] == 'Yes':\n",
    "            for i in range(len(attributes)):\n",
    "                if hypothesis[i] != row[attributes[i]]:  \n",
    "                    hypothesis[i] = '?'  # Generalize hypothesis\n",
    "\n",
    "    return hypothesis"
   ]
  },
  {
   "cell_type": "code",
   "execution_count": null,
   "metadata": {},
   "outputs": [],
   "source": [
    "# File path to training data\n",
    "file = r\"\""
   ]
  },
  {
   "cell_type": "code",
   "execution_count": null,
   "metadata": {},
   "outputs": [],
   "source": [
    "# Run Find-S algorithm\n",
    "hypothesis = find_s_algorithm(file)\n",
    "print(\"\\nThe final hypothesis is:\", hypothesis)"
   ]
  }
 ],
 "metadata": {
  "kernelspec": {
   "display_name": "Python 3",
   "language": "python",
   "name": "python3"
  },
  "language_info": {
   "codemirror_mode": {
    "name": "ipython",
    "version": 3
   },
   "file_extension": ".py",
   "mimetype": "text/x-python",
   "name": "python",
   "nbconvert_exporter": "python",
   "pygments_lexer": "ipython3",
   "version": "3.11.9"
  }
 },
 "nbformat": 4,
 "nbformat_minor": 2
}
