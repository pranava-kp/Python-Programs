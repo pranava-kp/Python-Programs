{
 "cells": [
  {
   "cell_type": "code",
   "execution_count": 9,
   "metadata": {},
   "outputs": [
    {
     "name": "stdout",
     "output_type": "stream",
     "text": [
      "0.0368155389092554\n"
     ]
    }
   ],
   "source": [
    "from sympy import *\n",
    "m=float(input(\"Enter value of m:\"))\n",
    "n=float(input(\"Enter value of n:\"))\n",
    "b=beta(m,n)\n",
    "g=gamma(m)\n",
    "print(b)\n"
   ]
  },
  {
   "cell_type": "code",
   "execution_count": 10,
   "metadata": {},
   "outputs": [
    {
     "name": "stdout",
     "output_type": "stream",
     "text": [
      "Values are related\n"
     ]
    }
   ],
   "source": [
    "from sympy import *\n",
    "m=float(5)\n",
    "n=float(7)\n",
    "p=beta(m,n)\n",
    "q=gamma(m)*gamma(n)/gamma(m+n)\n",
    "if(abs(p-q)<.0001):\n",
    "    print(\"Values are related\")\n",
    "else:\n",
    "    print(\"NO\")"
   ]
  },
  {
   "cell_type": "code",
   "execution_count": 15,
   "metadata": {},
   "outputs": [
    {
     "name": "stdout",
     "output_type": "stream",
     "text": [
      "24\n"
     ]
    }
   ],
   "source": [
    "from sympy import *\n",
    "x=symbols('x')\n",
    "m=5\n",
    "p=integrate(exp(-x)*x**(m-1),(x,0,float(\"inf\")))\n",
    "print(p)"
   ]
  },
  {
   "cell_type": "code",
   "execution_count": 16,
   "metadata": {},
   "outputs": [
    {
     "name": "stdout",
     "output_type": "stream",
     "text": [
      "1/3\n"
     ]
    }
   ],
   "source": [
    "from sympy import *\n",
    "x,y=symbols('x y')\n",
    "I=integrate(x**2+y**2,(y,0,x),(x,0,1))\n",
    "print(I)"
   ]
  },
  {
   "cell_type": "code",
   "execution_count": 1,
   "metadata": {},
   "outputs": [
    {
     "name": "stdout",
     "output_type": "stream",
     "text": [
      "81/80\n"
     ]
    }
   ],
   "source": [
    "from sympy import *\n",
    "x,z,y=symbols(\"x z y\")\n",
    "I=integrate(x*y*z,(z,0,3-x-y),(y,0,3-x),(x,0,3))\n",
    "print(I)"
   ]
  },
  {
   "cell_type": "code",
   "execution_count": 5,
   "metadata": {},
   "outputs": [
    {
     "name": "stdout",
     "output_type": "stream",
     "text": [
      "x**3*y/3 + x*y**3/3\n",
      "x**3*y/3 + x*y**3/3\n",
      "Equal\n"
     ]
    }
   ],
   "source": [
    "from sympy import *\n",
    "x,y=symbols('x y')\n",
    "I=integrate(x**2+y**2,y,x)\n",
    "J=integrate(x**2+y**2,x,y)\n",
    "print(I,J,sep=\"\\n\")\n",
    "if(I==J):\n",
    "    print(\"Equal\")\n",
    "else:\n",
    "    print(\"not\")"
   ]
  },
  {
   "cell_type": "code",
   "execution_count": 17,
   "metadata": {},
   "outputs": [
    {
     "name": "stdout",
     "output_type": "stream",
     "text": [
      "24.0*pi\n"
     ]
    }
   ],
   "source": [
    "from sympy import *\n",
    "x,y=symbols(\"x y\")\n",
    "a=4\n",
    "b=6\n",
    "I=4*integrate(1,(y,0,(b/a*sqrt(a**2-x**2))),(x,0,a))\n",
    "print(simplify(I))"
   ]
  },
  {
   "cell_type": "code",
   "execution_count": 20,
   "metadata": {},
   "outputs": [
    {
     "name": "stdout",
     "output_type": "stream",
     "text": [
      "24.0*pi\n"
     ]
    }
   ],
   "source": [
    "from sympy import *\n",
    "x,y=symbols(\"x y\")\n",
    "a=4\n",
    "b=6\n",
    "I=4*integrate(1,(y,0,(b/a*sqrt(a**2-x**2)**1)),(x,0,a))\n",
    "print((I))"
   ]
  },
  {
   "cell_type": "code",
   "execution_count": 21,
   "metadata": {},
   "outputs": [
    {
     "name": "stdout",
     "output_type": "stream",
     "text": [
      "3*pi*a**2/2\n"
     ]
    }
   ],
   "source": [
    "from sympy import *\n",
    "r,t,a=symbols(\"r t a\")\n",
    "I=integrate(r,(r,0,a*(1+cos(t))),((t,0,2*pi)))\n",
    "print(I)"
   ]
  },
  {
   "cell_type": "code",
   "execution_count": 23,
   "metadata": {},
   "outputs": [
    {
     "name": "stdout",
     "output_type": "stream",
     "text": [
      "a*b*c/6\n"
     ]
    }
   ],
   "source": [
    "from sympy import *\n",
    "a,b,c,x,y,z=symbols(\"a b c x y z\")\n",
    "I=integrate(1,(z,0,(c-c*((x/a)+(y/b)))),(y,0,b*(1-(x/a))),(x,0,a))\n",
    "print(I)"
   ]
  },
  {
   "cell_type": "code",
   "execution_count": 3,
   "metadata": {},
   "outputs": [
    {
     "name": "stdout",
     "output_type": "stream",
     "text": [
      "6*pi\n"
     ]
    }
   ],
   "source": [
    "from sympy import *\n",
    "a=2\n",
    "b=3\n",
    "x,y=symbols(\"x y\")\n",
    "I=4*integrate(1,(y,0,b*sqrt(a**2-x**2)/a),(x,0,a))\n",
    "print(I)"
   ]
  },
  {
   "cell_type": "code",
   "execution_count": 26,
   "metadata": {},
   "outputs": [
    {
     "name": "stdout",
     "output_type": "stream",
     "text": [
      "(Derivative(N.x**2*N.y + 2*N.x*N.z - 4, N.x))*N.i + (Derivative(N.x**2*N.y + 2*N.x*N.z - 4, N.y))*N.j + (Derivative(N.x**2*N.y + 2*N.x*N.z - 4, N.z))*N.k\n",
      "Gradient is \n",
      " (2*N.x*N.y + 2*N.z)*N.i + N.x**2*N.j + 2*N.x*N.k\n"
     ]
    }
   ],
   "source": [
    "from sympy import *\n",
    "from sympy.vector import *\n",
    "N=CoordSys3D(\"N\")\n",
    "x,y,z=symbols('x y z')\n",
    "A=N.x**2*N.y+2*N.x*N.z-4\n",
    "delop=Del()\n",
    "print(delop(A))\n",
    "gradA=gradient(A)\n",
    "print(\"Gradient is \\n\",gradA)"
   ]
  },
  {
   "cell_type": "code",
   "execution_count": 27,
   "metadata": {},
   "outputs": [
    {
     "name": "stdout",
     "output_type": "stream",
     "text": [
      "Derivative is \n",
      " (Derivative(N.x**2*N.y*N.z, N.x))*N.i + (Derivative(N.x**2*N.y*N.z, N.y))*N.j + (Derivative(N.x**2*N.y*N.z, N.z))*N.k\n",
      "Gradient is  2*N.x*N.y*N.z*N.i + N.x**2*N.z*N.j + N.x**2*N.y*N.k\n"
     ]
    }
   ],
   "source": [
    "from sympy import *\n",
    "from sympy.vector import *\n",
    "x,y,z=symbols(\"x y z\")\n",
    "N=CoordSys3D(\"N\")\n",
    "A=N.x**2*N.y*N.z\n",
    "delop=Del()\n",
    "print(\"Derivative is \\n\",delop(A))\n",
    "gradA=gradient(A)\n",
    "print(\"Gradient is \",gradA)"
   ]
  },
  {
   "cell_type": "code",
   "execution_count": 39,
   "metadata": {},
   "outputs": [
    {
     "name": "stdout",
     "output_type": "stream",
     "text": [
      "Derivative(N.x*N.y*N.z**2, N.z) + Derivative(N.x*N.y**2*N.z, N.y) + Derivative(N.x**2*N.y*N.z, N.x)\n",
      "6*N.x*N.y*N.z\n"
     ]
    }
   ],
   "source": [
    "from sympy import *\n",
    "from sympy.vector import *\n",
    "N=CoordSys3D(\"N\")\n",
    "x,y,z=symbols(\"x y z\")\n",
    "F=((N.x**2*N.y*N.z)*N.i)+((N.x*N.y**2*N.z)*N.j)+((N.x*N.y*N.z**2)*N.k)\n",
    "delop=Del()\n",
    "divA=delop.dot(F)\n",
    "print(divA)\n",
    "print(divergence(F))"
   ]
  },
  {
   "cell_type": "code",
   "execution_count": 42,
   "metadata": {},
   "outputs": [
    {
     "name": "stdout",
     "output_type": "stream",
     "text": [
      "(Derivative(N.x*N.y*N.z**2, N.y) - Derivative(N.x*N.y**2*N.z, N.z))*N.i + (-Derivative(N.x*N.y*N.z**2, N.x) + Derivative(N.x**2*N.y*N.z, N.z))*N.j + (Derivative(N.x*N.y**2*N.z, N.x) - Derivative(N.x**2*N.y*N.z, N.y))*N.k\n",
      "(-N.x*N.y**2 + N.x*N.z**2)*N.i + (N.x**2*N.y - N.y*N.z**2)*N.j + (-N.x**2*N.z + N.y**2*N.z)*N.k\n"
     ]
    }
   ],
   "source": [
    "from sympy import *\n",
    "from sympy.vector import *\n",
    "N=CoordSys3D(\"N\")\n",
    "x,y,z=symbols(\"x y z\")\n",
    "F=(N.x**2*N.y*N.z)*N.i+(N.x*N.y**2*N.z)*N.j+(N.x*N.y*N.z**2)*N.k\n",
    "delop=Del()\n",
    "curlA=delop.cross(F)\n",
    "print(curlA)\n",
    "print(curl(F))\n"
   ]
  },
  {
   "cell_type": "code",
   "execution_count": 7,
   "metadata": {},
   "outputs": [
    {
     "name": "stdout",
     "output_type": "stream",
     "text": [
      "Curl of N.x*N.y**2*N.i + 2*N.x*N.y*N.z*N.j + (-3*N.y*N.z**2)*N.k is\n",
      " (-2*N.x*N.y - 3*N.z**2)*N.i + (-2*N.x*N.y + 2*N.y*N.z)*N.k\n"
     ]
    }
   ],
   "source": [
    "from sympy import *\n",
    "from sympy.vector import *\n",
    "N=CoordSys3D(\"N\")\n",
    "x,y,z=symbols('x y z')\n",
    "F=N.x*N.y**2*N.i+2*N.x*N.y*N.z*N.j-3*N.y*N.z**2*N.k\n",
    "curlF=curl(F)\n",
    "print(f\"Curl of {F} is\\n\",curlF)"
   ]
  },
  {
   "cell_type": "code",
   "execution_count": 25,
   "metadata": {},
   "outputs": [
    {
     "ename": "AttributeError",
     "evalue": "'int' object has no attribute 'subs'",
     "output_type": "error",
     "traceback": [
      "\u001b[1;31m---------------------------------------------------------------------------\u001b[0m",
      "\u001b[1;31mAttributeError\u001b[0m                            Traceback (most recent call last)",
      "Cell \u001b[1;32mIn[25], line 6\u001b[0m\n\u001b[0;32m      4\u001b[0m x1 \u001b[39m=\u001b[39m \u001b[39m0.2\u001b[39m\n\u001b[0;32m      5\u001b[0m yd0 \u001b[39m=\u001b[39m \u001b[39m0\u001b[39m\n\u001b[1;32m----> 6\u001b[0m yd1 \u001b[39m=\u001b[39m \u001b[39m3\u001b[39m \u001b[39m*\u001b[39m exp(x) \u001b[39m+\u001b[39m \u001b[39m2\u001b[39m \u001b[39m*\u001b[39m yd0\u001b[39m.\u001b[39;49msubs({x: \u001b[39m0\u001b[39m, y: \u001b[39m1\u001b[39m})\n\u001b[0;32m      7\u001b[0m yd2 \u001b[39m=\u001b[39m \u001b[39m3\u001b[39m \u001b[39m*\u001b[39m exp(x) \u001b[39m+\u001b[39m \u001b[39m2\u001b[39m \u001b[39m*\u001b[39m yd1\u001b[39m.\u001b[39msubs({x: \u001b[39m0\u001b[39m, y: \u001b[39m1\u001b[39m})\n\u001b[0;32m      8\u001b[0m yd3 \u001b[39m=\u001b[39m \u001b[39m3\u001b[39m \u001b[39m*\u001b[39m exp(x) \u001b[39m+\u001b[39m \u001b[39m2\u001b[39m \u001b[39m*\u001b[39m yd2\u001b[39m.\u001b[39msubs({x: \u001b[39m0\u001b[39m, y: \u001b[39m1\u001b[39m})\n",
      "\u001b[1;31mAttributeError\u001b[0m: 'int' object has no attribute 'subs'"
     ]
    }
   ],
   "source": [
    "from sympy import *\n",
    "x, y = symbols('x y')\n",
    "x0 = 0\n",
    "x1 = 0.2\n",
    "yd0 = 0\n",
    "yd1 = 3 * exp(x) + 2 * yd0.subs({x: 0, y: 1})\n",
    "yd2 = 3 * exp(x) + 2 * yd1.subs({x: 0, y: 1})\n",
    "yd3 = 3 * exp(x) + 2 * yd2.subs({x: 0, y: 1})\n",
    "yd4 = 3 * exp(x) + 2 * yd3.subs({x: 0, y: 1})\n",
    "yd1 = yd1\n",
    "yd2 = yd2\n",
    "yd3 = yd3\n",
    "yd4 = yd4\n",
    "ts = yd0 + (x - x0) * yd1 + (x - x0)**2 * yd2 / 2 + (x - x0)**3 * yd3 / 6 + (x - x0)**4 * yd4 / 24\n",
    "\n",
    "# Corrected line: Substitute x1 in the expression before evaluating\n",
    "result = ts.subs(x, x1)\n",
    "print(ts, result, sep=\"\\n\")\n"
   ]
  },
  {
   "cell_type": "code",
   "execution_count": 28,
   "metadata": {},
   "outputs": [
    {
     "name": "stdout",
     "output_type": "stream",
     "text": [
      "4*x**3/3 + x**2 + x + 1\n",
      "1.11133333333333\n",
      "1.25066666666667\n"
     ]
    }
   ],
   "source": [
    "from sympy import *\n",
    "x,y=symbols('x y')\n",
    "x0=0\n",
    "yd0=1\n",
    "x1=.1\n",
    "x2=.2\n",
    "yd1=x**2+y**2\n",
    "yd2=2*x+2*y*yd1\n",
    "yd3=2+2*yd2*y+2*yd1**2\n",
    "yd1=yd1.subs({x:0,y:1})\n",
    "yd2=yd2.subs({x:0,y:1})\n",
    "yd3=yd3.subs({x:0,y:1})\n",
    "#yd4=2*(yd2**2+y*yd3+2*yd1*yd2).subs({x:0,y:1})\n",
    "ts=yd0+(x-x0)*yd1+(x-x0)**2*yd2/2+(x-x0)**3*yd3/6#+(x-x0)**4*yd4\n",
    "#ts=yd0+(x-x0)*yd1+(x-x0)**2*yd2/2+(x-x0)**3*yd3/6\n",
    "print(ts,ts.subs(x,x1),ts.subs(x,x2),sep=\"\\n\")"
   ]
  },
  {
   "cell_type": "code",
   "execution_count": 10,
   "metadata": {},
   "outputs": [
    {
     "name": "stdout",
     "output_type": "stream",
     "text": [
      "y 1 at iteration 0 = 1.1000\n",
      "y 1 at iteration 1 =1.0917\n",
      "y 1 at iteration 2 =1.0920\n",
      "\n",
      "\n"
     ]
    }
   ],
   "source": [
    "from sympy import *\n",
    "x,y=symbols('x y')\n",
    "g=1/(x+y)\n",
    "x0=0\n",
    "y0=1\n",
    "h=.1\n",
    "xn=.1\n",
    "i=1\n",
    "f=lambdify([x,y],g)\n",
    "while(x0<xn):\n",
    "    x1=x0+h\n",
    "    y1=y0+h*f(x0,y0)\n",
    "    print(\"y\",i,\"at iteration 0 = %.4f\"%y1)\n",
    "    for j in range(2):\n",
    "        y1=y0+(h/2)*(f(x0,y0,)+f(x1,y1))\n",
    "        print(\"y\",i,\"at iteration\",j+1,\"=%.4f\"%y1)\n",
    "    i+=1\n",
    "    x0=x1\n",
    "    y0=y1\n",
    "    print(\"\\n\")       "
   ]
  },
  {
   "cell_type": "code",
   "execution_count": 13,
   "metadata": {},
   "outputs": [
    {
     "name": "stdout",
     "output_type": "stream",
     "text": [
      "y1 at iteration 0 = 1.0500\n",
      "y1 at iteration 1 = 1.0662\n",
      "y1 at iteration 2 = 1.0667\n",
      "\n",
      "\n",
      "y2 at iteration 0 = 1.1500\n",
      "y2 at iteration 1 = 1.1671\n",
      "y2 at iteration 2 = 1.1675\n",
      "\n",
      "\n"
     ]
    }
   ],
   "source": [
    "from sympy import *\n",
    "x,y=symbols('x y')\n",
    "x0=0\n",
    "y0=1\n",
    "h=.1\n",
    "xn=.2\n",
    "g=3*x+y/2\n",
    "i=1\n",
    "f=lambdify([x,y],g)\n",
    "while(x0<xn):\n",
    "    x1=x0+h\n",
    "    y1=y0+h*f(x0,y0)\n",
    "    print(\"y\"+str(i)+\" at iteration 0 = %.4f\"%y1)\n",
    "    for j in range(2):\n",
    "        y1=y0+(h/2)*(f(x0,y0)+f(x1,y1))\n",
    "        print(\"y\"+str(i)+\" at iteration\",j+1,\"= %.4f\"%y1)\n",
    "    i+=1\n",
    "    x0=x1\n",
    "    y0=y1\n",
    "    print(\"\\n\")"
   ]
  },
  {
   "cell_type": "code",
   "execution_count": 16,
   "metadata": {},
   "outputs": [
    {
     "name": "stdout",
     "output_type": "stream",
     "text": [
      "4*x**3/3 + x**2 + x + 1\n",
      "y( 0.1 ) = 1.1113\n",
      "y( 0.2 ) = 1.2507\n"
     ]
    }
   ],
   "source": [
    "from sympy import *\n",
    "x,y=symbols('x y')\n",
    "x1=.1\n",
    "x2=.2\n",
    "x0=0\n",
    "y0=1\n",
    "y1=x**2+y**2\n",
    "y2=2*x+2*y*y1\n",
    "y3=2+2*(y*y2+y1**2)\n",
    "y1=y1.subs({x:0,y:1})\n",
    "y2=y2.subs({x:0,y:1})\n",
    "y3=y3.subs({x:0,y:1})\n",
    "y=y0+(x-x0)*y1+(x-x0)**2*y2/2+(x-x0)**3*y3/6\n",
    "print(y)\n",
    "print(\"y(\",x1,\") = %.4f\"%y.subs(x,x1))\n",
    "print(\"y(\",x2,\") = %.4f\"%y.subs(x,x2))"
   ]
  },
  {
   "cell_type": "code",
   "execution_count": 29,
   "metadata": {},
   "outputs": [
    {
     "name": "stdout",
     "output_type": "stream",
     "text": [
      "15*x**4/8 + 7*x**3/2 + 9*x**2/2 + 3*x\n",
      "y( 0.2 ) = 0.8110\n"
     ]
    }
   ],
   "source": [
    "from sympy import *\n",
    "x,y=symbols('x y')\n",
    "x1=.2\n",
    "x0=0\n",
    "y0=0\n",
    "y1=3*exp(x)+2*y\n",
    "y2=3*exp(x)+2*y1\n",
    "y3=3*exp(x)+2*y2\n",
    "y4=3*exp(x)+2*y3\n",
    "y1=y1.subs({x:x0,y:y0})\n",
    "y2=y2.subs({x:x0,y:y0})\n",
    "y3=y3.subs({x:x0,y:y0})\n",
    "y4=y4.subs({x:x0,y:y0})\n",
    "y=y0+(x-x0)*y1+(x-x0)**2*y2/2+(x-x0)**3*y3/6+(x-x0)**4*y4/24\n",
    "print(y)\n",
    "print(\"y(\",x1,\") = %.4f\"%y.subs(x,x1))"
   ]
  },
  {
   "cell_type": "code",
   "execution_count": 34,
   "metadata": {},
   "outputs": [
    {
     "name": "stdout",
     "output_type": "stream",
     "text": [
      "K1 = 0.1000\n",
      "K2 = 0.0909\n",
      "K3 = 0.0909\n",
      "K4 = 0.0832\n",
      "y( 0.1 ) = 1.0911\n"
     ]
    }
   ],
   "source": [
    "from sympy import *\n",
    "x1=.1\n",
    "h=.1\n",
    "x,y=symbols('x y')\n",
    "g=(y-x)/(y+x)\n",
    "x0=0\n",
    "y0=1\n",
    "f=lambdify([x,y],g)\n",
    "x1=x0+h\n",
    "K1=h*f(x0,y0)\n",
    "K2=h*f(x0+h/2,y0+K1/2)\n",
    "K3=h*f(x0+h/2,y0+K2/2)\n",
    "K4=h*f(x0+h,y0+K3)\n",
    "print(\"K1 = %.4f\"%K1)\n",
    "print(\"K2 = %.4f\"%K2)\n",
    "print(\"K3 = %.4f\"%K3)\n",
    "print(\"K4 = %.4f\"%K4)\n",
    "y1=y0+1/6*(K1+2*K2+2*K3+K4)\n",
    "print(\"y1(\",x1,\") = %.4f\"%y1)"
   ]
  },
  {
   "cell_type": "code",
   "execution_count": 1,
   "metadata": {},
   "outputs": [
    {
     "name": "stdout",
     "output_type": "stream",
     "text": [
      "y'0 = 0.0000\n",
      "y'1 = 0.2003\n",
      "y'2 = 0.4028\n",
      "y'3 = 0.6097\n",
      "Predicted value of y4 is 2.1623\n",
      "y'4 = 0.8213\n",
      "Corrected value of y4 after\titeraion 1 is : 2.1621\n",
      "y'4 = 0.8215\n",
      "Corrected value of y4 after\titeraion 2 is : 2.1621\n"
     ]
    }
   ],
   "source": [
    "from sympy import *\n",
    "x,y=symbols('x y')\n",
    "g=2*exp(x)-y\n",
    "f=lambdify([x,y],g)\n",
    "x0=0\n",
    "y0=2\n",
    "x1=.1\n",
    "y1=2.01\n",
    "x2=.2\n",
    "y2=2.04\n",
    "x3=.3\n",
    "y3=2.09\n",
    "h=.1\n",
    "x4=x3+h\n",
    "y01=f(x0,y0)\n",
    "y11=f(x1,y1)\n",
    "y21=f(x2,y2)\n",
    "y31=f(x3,y3)\n",
    "print(\"y'0 = %.4f\"%y01)\n",
    "print(\"y'1 = %.4f\"%y11)\n",
    "print(\"y'2 = %.4f\"%y21)\n",
    "print(\"y'3 = %.4f\"%y31)\n",
    "y4p=y0+(4*h/3)*(2*y11-y21+2*y31)\n",
    "print(\"Predicted value of y4 is %.4f\"%y4p)\n",
    "y41=f(x4,y4p)\n",
    "for i in range(1,3):\n",
    "    print(\"y'4 = %.4f\"%y41)\n",
    "    y4=y2+(h/3)*(y21+4*y31+y41)\n",
    "    print(\"Corrected value of y4 after\\titeraion %d is : %.4f\"%(i,y4))\n",
    "    y41=f(x4,y4)"
   ]
  },
  {
   "cell_type": "code",
   "execution_count": 5,
   "metadata": {},
   "outputs": [
    {
     "name": "stdout",
     "output_type": "stream",
     "text": [
      "y0' = 0.0000\n",
      "y1' = 0.2003\n",
      "y2' = 0.4028\n",
      "y3' = 0.6097\n",
      "Predicted value is 2.1623\n",
      "y4' = 0.8213\n",
      "Corrected value is 2.1621\n",
      "y4' = 0.8215\n",
      "Corrected value is 2.1621\n"
     ]
    }
   ],
   "source": [
    "from sympy import *\n",
    "x,y=symbols('x y')\n",
    "x0=0\n",
    "x1=.1\n",
    "x2=.2\n",
    "x3=.3\n",
    "h=.1\n",
    "y0=2\n",
    "y1=2.01\n",
    "y2=2.04\n",
    "y3=2.09\n",
    "g=2*exp(x)-y\n",
    "f=lambdify([x,y],g)\n",
    "y01=f(x0,y0)\n",
    "y11=f(x1,y1)\n",
    "y21=f(x2,y2)\n",
    "y31=f(x3,y3)\n",
    "print(\"y0' = %.4f\"%y01)\n",
    "print(\"y1' = %.4f\"%y11)\n",
    "print(\"y2' = %.4f\"%y21)\n",
    "print(\"y3' = %.4f\"%y31)\n",
    "y4p=y0+(4*h/3)*(2*y11-y21+2*y31)\n",
    "y41=f(x4,y4p)\n",
    "print(\"Predicted value is %.4f\"%y4p)\n",
    "for i in range(1,3):\n",
    "    print(\"y4' = %.4f\"%y41)\n",
    "    y4=y2+(h/3)*(y21+4*y31+y41)\n",
    "    print(\"Corrected value is %.4f\"%y4)\n",
    "    y41=f(x4,y4)\n"
   ]
  },
  {
   "cell_type": "code",
   "execution_count": 86,
   "metadata": {},
   "outputs": [
    {
     "name": "stdout",
     "output_type": "stream",
     "text": [
      "(2*N.x/(N.x**2 + N.y**2 + N.z**2))*N.i + (2*N.y/(N.x**2 + N.y**2 + N.z**2))*N.j + (2*N.z/(N.x**2 + N.y**2 + N.z**2))*N.k\n",
      "\n",
      "\n",
      "gradient is\n",
      " (2*N.x/(N.x**2 + N.y**2 + N.z**2))*N.i + (2*N.y/(N.x**2 + N.y**2 + N.z**2))*N.j + (2*N.z/(N.x**2 + N.y**2 + N.z**2))*N.k\n"
     ]
    }
   ],
   "source": [
    "from sympy import *\n",
    "from sympy.vector import *\n",
    "x,y,z=symbols('x y z')\n",
    "N=CoordSys3D(\"N\")\n",
    "F=log(N.x**2+N.y**2+N.z**2)\n",
    "delop=Del()\n",
    "print(simplify((delop(F))))\n",
    "\n",
    "print(\"\\n\\ngradient is\\n\",gradient(F))"
   ]
  },
  {
   "cell_type": "code",
   "execution_count": 96,
   "metadata": {},
   "outputs": [
    {
     "name": "stdout",
     "output_type": "stream",
     "text": [
      "(Derivative((N.x + N.y + 1)*N.i + N.j + (-N.x - N.y)*N.k, N.x))*N.i + (Derivative((N.x + N.y + 1)*N.i + N.j + (-N.x - N.y)*N.k, N.y))*N.j + (Derivative((N.x + N.y + 1)*N.i + N.j + (-N.x - N.y)*N.k, N.z))*N.k\n",
      "Curl is  (-1)*N.i + N.j + (-1)*N.k\n",
      "NO\n"
     ]
    }
   ],
   "source": [
    "from sympy import *\n",
    "from sympy.vector import *\n",
    "x,y,z=symbols('x y z')\n",
    "N=CoordSys3D(\"N\")\n",
    "F=(N.x+N.y+1)*N.i+N.j-(N.x+N.y)*N.k\n",
    "delop=Del()\n",
    "print((delop(F)))\n",
    "print(\"Curl is \",curl(F))\n",
    "M=F.dot(curl(F))\n",
    "if(M== 1):\n",
    "    print(\"Yes\")\n",
    "else:\n",
    "        print(\"NO\")\n"
   ]
  }
 ],
 "metadata": {
  "kernelspec": {
   "display_name": "Python 3",
   "language": "python",
   "name": "python3"
  },
  "language_info": {
   "codemirror_mode": {
    "name": "ipython",
    "version": 3
   },
   "file_extension": ".py",
   "mimetype": "text/x-python",
   "name": "python",
   "nbconvert_exporter": "python",
   "pygments_lexer": "ipython3",
   "version": "3.11.6"
  },
  "orig_nbformat": 4
 },
 "nbformat": 4,
 "nbformat_minor": 2
}
