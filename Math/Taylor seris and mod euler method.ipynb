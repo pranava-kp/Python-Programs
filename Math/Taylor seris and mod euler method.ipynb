{
 "cells": [
  {
   "cell_type": "code",
   "execution_count": null,
   "metadata": {},
   "outputs": [],
   "source": []
  },
  {
   "cell_type": "code",
   "execution_count": 7,
   "metadata": {},
   "outputs": [
    {
     "name": "stdout",
     "output_type": "stream",
     "text": [
      "Taylor's seris  61*x**4/24 + 29*x**3/6 + 13*x**2/2 + 5*x\n",
      "y( 0.2 ) = 1.3027\n"
     ]
    }
   ],
   "source": [
    "from sympy import *\n",
    "x,y=symbols('x y')\n",
    "x0=0\n",
    "x1=.2\n",
    "yd0=0\n",
    "yd1=3*exp(x)+2*y\n",
    "yd2=3*exp(x)+2*yd1\n",
    "yd3=3*exp(x)+2*yd2\n",
    "yd4=3*exp(x)+2*yd3\n",
    "yd1=yd1.subs({x:0,y:1})\n",
    "yd2=yd2.subs({x:0,y:1})\n",
    "yd3=yd3.subs({x:0,y:1})\n",
    "yd4=yd4.subs({x:0,y:1})\n",
    "ts=yd0+(x-x0)*yd1+(x-x0)**2*yd2/2+(x-x0)**3*yd3/6+(x-x0)**4*yd4/24\n",
    "yx1=ts.subs(x,x1)\n",
    "print(\"Taylor's seris \",ts)\n",
    "print('y(',x1,') = %.4f'%yx1)"
   ]
  },
  {
   "cell_type": "code",
   "execution_count": 14,
   "metadata": {},
   "outputs": [
    {
     "name": "stdout",
     "output_type": "stream",
     "text": [
      "Taylor's seris  4*x**3/3 + x**2 + x + 1\n",
      "y( 0.1 ) = 1.1113\n",
      "y( 0.2 ) = 1.2507\n"
     ]
    }
   ],
   "source": [
    "from sympy import *\n",
    "x,y=symbols('x y')\n",
    "x0=0\n",
    "x1=.1\n",
    "x2=.2\n",
    "yd0=1\n",
    "yd1=x**2+y**2\n",
    "yd2=2*x+2*y*yd1\n",
    "yd3=2+2*y*yd2+2*(yd1**2)\n",
    "yd1=yd1.subs({x:0,y:1})\n",
    "yd2=yd2.subs({x:0,y:1})\n",
    "yd3=yd3.subs({x:0,y:1})\n",
    "ts=yd0+(x-x0)*yd1+(x-x0)**2*yd2/2+(x-x0)**3*yd3/6\n",
    "yx1=ts.subs(x,x1)\n",
    "yx2=ts.subs(x,x2)\n",
    "print(\"Taylor's seris \",ts)\n",
    "print('y(',x1,') = %.4f'%yx1)\n",
    "print('y(',x2,') = %.4f'%yx2)"
   ]
  },
  {
   "cell_type": "code",
   "execution_count": 2,
   "metadata": {},
   "outputs": [
    {
     "name": "stdout",
     "output_type": "stream",
     "text": [
      "y 1  at iteration 0 = 1.0500\n",
      "y 1  at iteration 1 = 1.0662\n",
      "y 1  at iteration 2 = 1.0667\n",
      "\n",
      "\n",
      "y 2  at iteration 0 = 1.1500\n",
      "y 2  at iteration 1 = 1.1671\n",
      "y 2  at iteration 2 = 1.1675\n",
      "\n",
      "\n"
     ]
    }
   ],
   "source": [
    "from sympy import *\n",
    "x,y=symbols('x y')\n",
    "x0=0\n",
    "y0=1\n",
    "h=.1\n",
    "xn=.2\n",
    "g=3*x+y/2\n",
    "f=lambdify([x,y],g)\n",
    "i=1\n",
    "while(x0<xn):\n",
    "    x1=x0+h\n",
    "    y1=y0+h*f(x0,y0)\n",
    "    print(\"y\",i,\" at iteration 0 = %.4f\"%y1)\n",
    "    for j in range(2):\n",
    "        y1=y0+(h/2)*(f(x0,y0)+f(x1,y1))\n",
    "        print(\"y\",i,\" at iteration %d = %.4f\"%(j+1,y1))\n",
    "    print(\"\\n\")\n",
    "    x0=x1\n",
    "    y0=y1\n",
    "    i=i+1"
   ]
  },
  {
   "cell_type": "code",
   "execution_count": 4,
   "metadata": {},
   "outputs": [
    {
     "name": "stdout",
     "output_type": "stream",
     "text": [
      "y 1  at iteration 0 = 1.1000\n",
      "y 1  at iteration 1 = 1.0917\n",
      "y 1  at iteration 2 = 1.0920\n",
      "\n",
      "\n"
     ]
    }
   ],
   "source": [
    "from sympy import *\n",
    "x,y=symbols('x y')\n",
    "x0=0\n",
    "y0=1\n",
    "h=.1\n",
    "xn=.1\n",
    "g=1/(x+y)\n",
    "f=lambdify([x,y],g)\n",
    "i=1\n",
    "while(x0<xn):\n",
    "    x1=x0+h\n",
    "    y1=y0+h*f(x0,y0)\n",
    "    print(\"y\",i,\" at iteration 0 = %.4f\"%y1)\n",
    "    for j in range(2):\n",
    "        y1=y0+(h/2)*(f(x0,y0)+f(x1,y1))\n",
    "        print(\"y\",i,\" at iteration %d = %.4f\"%(j+1,y1))\n",
    "    print(\"\\n\")\n",
    "    x0=x1\n",
    "    y0=y1\n",
    "    i=i+1"
   ]
  },
  {
   "cell_type": "code",
   "execution_count": null,
   "metadata": {},
   "outputs": [],
   "source": []
  }
 ],
 "metadata": {
  "kernelspec": {
   "display_name": "Python 3",
   "language": "python",
   "name": "python3"
  },
  "language_info": {
   "codemirror_mode": {
    "name": "ipython",
    "version": 3
   },
   "file_extension": ".py",
   "mimetype": "text/x-python",
   "name": "python",
   "nbconvert_exporter": "python",
   "pygments_lexer": "ipython3",
   "version": "3.11.5"
  },
  "orig_nbformat": 4
 },
 "nbformat": 4,
 "nbformat_minor": 2
}
