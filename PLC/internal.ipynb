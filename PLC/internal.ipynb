{
 "cells": [
  {
   "cell_type": "code",
   "execution_count": 7,
   "metadata": {},
   "outputs": [
    {
     "name": "stdout",
     "output_type": "stream",
     "text": [
      "0\n",
      "1\n",
      "1\n",
      "2\n",
      "3\n",
      "5\n",
      "8\n",
      "13\n",
      "21\n",
      "34\n",
      "55\n",
      "89\n",
      "144\n",
      "233\n",
      "377\n"
     ]
    }
   ],
   "source": [
    "n=int(input(\"Enter no of terms\"))\n",
    "n1=0\n",
    "n2=1\n",
    "print(n1)\n",
    "print(n2)\n",
    "for i in range(n-2):\n",
    "    current=n1+n2\n",
    "    print(current)\n",
    "    n1=n2\n",
    "    n2=current"
   ]
  },
  {
   "cell_type": "code",
   "execution_count": 3,
   "metadata": {},
   "outputs": [
    {
     "name": "stdout",
     "output_type": "stream",
     "text": [
      "35.0\n"
     ]
    }
   ],
   "source": [
    "import sys\n",
    "def fact(v):\n",
    "    if v==0:\n",
    "        return 1\n",
    "    else:\n",
    "        return v*fact(v-1)\n",
    "n=int(input(\"Enter value for n\"))\n",
    "r=int(input(\"Enter value for r\"))\n",
    "if r>n:\n",
    "    print(\"Invalid\")\n",
    "    sys.exit(0)\n",
    "bc=fact(n)/(fact(r)*fact(n-r))\n",
    "print(bc)"
   ]
  },
  {
   "cell_type": "code",
   "execution_count": 16,
   "metadata": {},
   "outputs": [
    {
     "name": "stdout",
     "output_type": "stream",
     "text": [
      "Enter elements\n",
      "Mean is 25.0\n",
      "Variance is 514.6666666666666\n",
      "Standard deviation is 22.686266036231405\n"
     ]
    }
   ],
   "source": [
    "n=int(input(\"Enter number of terms\"))\n",
    "a=[]\n",
    "sum=0\n",
    "print(\"Enter elements\")\n",
    "for i in range(n):\n",
    "    val=int(input())\n",
    "    a.append(val)\n",
    "    sum+=val\n",
    "mean=sum/n\n",
    "sum=0\n",
    "print(\"Mean is\",mean)\n",
    "for i in a:\n",
    "    sum+=(i-mean)**2\n",
    "var=sum/n\n",
    "SD=var**(1/2)\n",
    "print(\"Variance is\",var)\n",
    "print(\"Standard deviation is\",SD)\n",
    "\n"
   ]
  },
  {
   "cell_type": "code",
   "execution_count": 15,
   "metadata": {},
   "outputs": [
    {
     "name": "stdout",
     "output_type": "stream",
     "text": [
      "B cannot be zero\n",
      "None\n"
     ]
    }
   ],
   "source": [
    "def DivExp(a,b):\n",
    "    assert a>0,\"A must be greater than 0\"\n",
    "    try:\n",
    "        c=a/b\n",
    "    except ZeroDivisionError:\n",
    "        print(\"B cannot be zero\")\n",
    "    else:\n",
    "        return c\n",
    "val1=int(input(\"Enter value of A\"))\n",
    "val2=int(input(\"Enter value of B\"))\n",
    "val3=DivExp(val1,val2)\n",
    "print(val3)"
   ]
  },
  {
   "cell_type": "code",
   "execution_count": 4,
   "metadata": {},
   "outputs": [
    {
     "name": "stdout",
     "output_type": "stream",
     "text": [
      "object 1\n",
      "object 2\n",
      "object 3\n",
      "Entered complex are\n",
      "11+(2)i\n",
      "13+(4)i\n",
      "15+(6)i\n",
      "Sum of all complexes are \n",
      "39+(12)i\n"
     ]
    }
   ],
   "source": [
    "class Complex:\n",
    "    def __init__(self,real=0,imag=0):\n",
    "        self.real=real\n",
    "        self.imag=imag\n",
    "    def readcomplex(self):\n",
    "        self.real=int(input(\"Enter real part\"))\n",
    "        self.imag=int(input(\"Enter imaginary part\"))\n",
    "    def showcomplex(self):\n",
    "        print(self.real,\"+(\",self.imag,\")i\",sep=\"\")\n",
    "    def addcomplex(self,c2):\n",
    "        c3=Complex()\n",
    "        c3.real=self.real+c2.real\n",
    "        c3.imag=self.imag+c2.imag\n",
    "        return c3\n",
    "def add2Complex(a,b):\n",
    "    c=a.addcomplex(b)\n",
    "    return c\n",
    "compList=[]\n",
    "num=int(input(\"Enter number of complexes\"))\n",
    "for i in range(num):\n",
    "    print(\"object\",i+1)\n",
    "    obj=Complex()\n",
    "    obj.readcomplex()\n",
    "    compList.append(obj)\n",
    "print(\"Entered complex are\")\n",
    "for obj in compList:\n",
    "    obj.showcomplex()\n",
    "sumObj=Complex()\n",
    "for i in compList:\n",
    "    sumObj=add2Complex(sumObj,i)\n",
    "print(\"Sum of all complexes are \")\n",
    "sumObj.showcomplex()\n"
   ]
  }
 ],
 "metadata": {
  "kernelspec": {
   "display_name": "Python 3",
   "language": "python",
   "name": "python3"
  },
  "language_info": {
   "codemirror_mode": {
    "name": "ipython",
    "version": 3
   },
   "file_extension": ".py",
   "mimetype": "text/x-python",
   "name": "python",
   "nbconvert_exporter": "python",
   "pygments_lexer": "ipython3",
   "version": "3.11.6"
  },
  "orig_nbformat": 4
 },
 "nbformat": 4,
 "nbformat_minor": 2
}
