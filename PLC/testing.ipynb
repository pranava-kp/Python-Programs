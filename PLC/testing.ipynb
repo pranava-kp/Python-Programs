{
 "cells": [
  {
   "cell_type": "code",
   "execution_count": 55,
   "metadata": {},
   "outputs": [
    {
     "name": "stdout",
     "output_type": "stream",
     "text": [
      "120\n"
     ]
    }
   ],
   "source": [
    "n=int(input(\"Enter a number\"))\n",
    "sum=0\n",
    "for i in range(n,-1,-1):\n",
    "    sum=sum+i\n",
    "print(sum)"
   ]
  },
  {
   "cell_type": "code",
   "execution_count": 107,
   "metadata": {},
   "outputs": [
    {
     "name": "stdout",
     "output_type": "stream",
     "text": [
      "Enter name of cat 1:\n",
      "Enter name of cat 2:\n",
      "Enter name of cat 3:\n",
      "Enter name of cat 4:\n",
      "The cat names are:\n",
      "Nithindhra\n",
      "Aekbote\n"
     ]
    }
   ],
   "source": [
    "catName = []\n",
    "while True:\n",
    "    print(\"Enter name of cat \" + str(len(catName) + 1) + \":\")\n",
    "    name = input()\n",
    "    if name == \"\":\n",
    "        break\n",
    "    catName.append(name)\n",
    "\n",
    "print(\"The cat names are:\")\n",
    "for i in range(len(catName)):\n",
    "    print(catName[i])\n"
   ]
  },
  {
   "cell_type": "code",
   "execution_count": 114,
   "metadata": {},
   "outputs": [
    {
     "name": "stdout",
     "output_type": "stream",
     "text": [
      "True\n"
     ]
    }
   ],
   "source": [
    "spam=[10,20,30,40]\n",
    "print(50 not in spam)"
   ]
  },
  {
   "cell_type": "code",
   "execution_count": 61,
   "metadata": {},
   "outputs": [
    {
     "name": "stdout",
     "output_type": "stream",
     "text": [
      "[['fat', 'black', 'loud']]\n"
     ]
    }
   ],
   "source": [
    "from copy import copy\n",
    "\n",
    "cat = ['fat', 'black', 'loud']\n",
    "n = [copy(cat) ]\n",
    "print(n)  \n"
   ]
  },
  {
   "cell_type": "code",
   "execution_count": 123,
   "metadata": {},
   "outputs": [
    {
     "name": "stdout",
     "output_type": "stream",
     "text": [
      "Hello\n",
      "World!\n"
     ]
    }
   ],
   "source": [
    "spam=\"Hello\\n\"\n",
    "spam+=\"World!\"\n",
    "print(spam)"
   ]
  },
  {
   "cell_type": "code",
   "execution_count": 128,
   "metadata": {},
   "outputs": [
    {
     "name": "stdout",
     "output_type": "stream",
     "text": [
      "<class 'int'>\n",
      "<class 'float'>\n",
      "<class 'float'>\n"
     ]
    }
   ],
   "source": [
    "sal=1234\n",
    "sala=float(1234)\n",
    "total=sal+sala\n",
    "print(type(sal))\n",
    "print(type(sala))\n",
    "print(type(total))"
   ]
  },
  {
   "cell_type": "code",
   "execution_count": 62,
   "metadata": {},
   "outputs": [
    {
     "data": {
      "text/plain": [
       "['a', 'A', 'z', 'Z']"
      ]
     },
     "execution_count": 62,
     "metadata": {},
     "output_type": "execute_result"
    }
   ],
   "source": [
    "spam=['a','z','A','Z']\n",
    "spam.sort(key=str.lower)\n",
    "spam"
   ]
  },
  {
   "cell_type": "code",
   "execution_count": 162,
   "metadata": {},
   "outputs": [
    {
     "name": "stdout",
     "output_type": "stream",
     "text": [
      "Very doubtful 8\n"
     ]
    }
   ],
   "source": [
    "#Project\n",
    "\n",
    "import random\n",
    "messages=[\"It is certain\",\n",
    "           'It is decidedly so',\n",
    "           \"Yes definitely?\",\n",
    "           \"Reply hazy Why again\",\n",
    "           \"Ask again! Tater\",\n",
    "           \"Conurtrate and ack again?\",\n",
    "           \"My reply is no\",\n",
    "           \"Outlook not so\",\n",
    "           \"Very doubtful\"]\n",
    "i=random.randint(0,len(messages)-1)\n",
    "print(messages[i],i)\n"
   ]
  },
  {
   "cell_type": "code",
   "execution_count": 66,
   "metadata": {},
   "outputs": [
    {
     "name": "stdout",
     "output_type": "stream",
     "text": [
      "Zophie a cat\n"
     ]
    },
    {
     "data": {
      "text/plain": [
       "'Zophie the cat'"
      ]
     },
     "execution_count": 66,
     "metadata": {},
     "output_type": "execute_result"
    }
   ],
   "source": [
    "name=\"Zophie a cat\"\n",
    "newname=name[:7]+\"the\"+name[8:]\n",
    "print(name)\n",
    "newname"
   ]
  },
  {
   "cell_type": "code",
   "execution_count": 180,
   "metadata": {},
   "outputs": [
    {
     "name": "stdout",
     "output_type": "stream",
     "text": [
      "0\n",
      "1\n",
      "2\n",
      "3\n",
      "4\n",
      "5\n",
      "6\n",
      "7\n",
      "8\n",
      "9\n"
     ]
    }
   ],
   "source": [
    "for i in range(0,10,1):\n",
    "    print(i)"
   ]
  },
  {
   "cell_type": "code",
   "execution_count": 181,
   "metadata": {},
   "outputs": [
    {
     "name": "stdout",
     "output_type": "stream",
     "text": [
      "<class 'NoneType'>\n"
     ]
    }
   ],
   "source": [
    "print(type(None))"
   ]
  },
  {
   "cell_type": "code",
   "execution_count": 1,
   "metadata": {},
   "outputs": [
    {
     "name": "stdout",
     "output_type": "stream",
     "text": [
      "Calculate the square of a number.\n",
      "25\n"
     ]
    }
   ],
   "source": [
    "def square(x):\n",
    "    print(\"\"\"Calculate the square of a number.\"\"\")\n",
    "    return x ** 2\n",
    "\n",
    "# Calling the function\n",
    "result = square(5);print(result)  # Output: 25\n"
   ]
  },
  {
   "cell_type": "code",
   "execution_count": 31,
   "metadata": {},
   "outputs": [
    {
     "data": {
      "text/plain": [
       "['hello', 'how', [1, 2], [[10, 20, 30]]]"
      ]
     },
     "execution_count": 31,
     "metadata": {},
     "output_type": "execute_result"
    }
   ],
   "source": [
    "a=['hello', 'how', [1,2,3], [[10,20,30]]]\n",
    "a[2].pop(2)\n",
    "a"
   ]
  },
  {
   "cell_type": "code",
   "execution_count": 5,
   "metadata": {},
   "outputs": [
    {
     "name": "stdout",
     "output_type": "stream",
     "text": [
      "olleh woh era uoy \n"
     ]
    }
   ],
   "source": [
    "a=\"hello how are you\"\n",
    "new=\"\"\n",
    "mylist=a.split(\" \")\n",
    "for i in mylist:\n",
    "    new=new+i[::-1]+\" \"\n",
    "print(new)"
   ]
  },
  {
   "cell_type": "code",
   "execution_count": 9,
   "metadata": {},
   "outputs": [
    {
     "name": "stdout",
     "output_type": "stream",
     "text": [
      "The sum of 5.0 and 7.0 is 12.0\n"
     ]
    }
   ],
   "source": [
    "# Define a lambda function to add two numbers\n",
    "add_numbers = lambda x, y: x + y\n",
    "\n",
    "# Input two numbers from the user\n",
    "num1 = float(input(\"Enter the first number: \"))\n",
    "num2 = float(input(\"Enter the second number: \"))\n",
    "\n",
    "# Call the lambda function to add the numbers\n",
    "result = add_numbers(num1, num2)\n",
    "\n",
    "# Display the result\n",
    "print(f\"The sum of {num1} and {num2} is {result}\")\n"
   ]
  },
  {
   "cell_type": "code",
   "execution_count": 13,
   "metadata": {},
   "outputs": [
    {
     "name": "stdout",
     "output_type": "stream",
     "text": [
      "Enter the elements\n",
      "0\n",
      "2\n",
      "4\n",
      "6\n",
      "8\n",
      "10\n"
     ]
    }
   ],
   "source": [
    "n=int(input(\"Enter the number of elements\"))\n",
    "mylist=[]\n",
    "print(\"Enter the elements\")\n",
    "for i in range(n):\n",
    "    a=int(input())\n",
    "    mylist.append(a)\n",
    "for i in mylist:\n",
    "    if(i%2==0):\n",
    "        print(i)"
   ]
  },
  {
   "cell_type": "code",
   "execution_count": 15,
   "metadata": {},
   "outputs": [
    {
     "name": "stdout",
     "output_type": "stream",
     "text": [
      "Enter the keys and values\n",
      "{'CS117': 'PBH', 'CS118': 'KPP', 'CS119': 'PGA'}\n",
      "Enter key of value to be deleted\n",
      "{'CS118': 'KPP', 'CS119': 'PGA'}\n"
     ]
    }
   ],
   "source": [
    "n=int(input(\"Enter the number of elements\"))\n",
    "mydict={}\n",
    "print(\"Enter the keys and values\")\n",
    "for i in range(n):\n",
    "    k=input()\n",
    "    v=input()\n",
    "    mydict.setdefault(k,v)\n",
    "print(mydict)\n",
    "print(\"Enter key of value to be deleted\")\n",
    "d=input()\n",
    "del mydict[d]\n",
    "print(mydict)"
   ]
  },
  {
   "cell_type": "code",
   "execution_count": 17,
   "metadata": {},
   "outputs": [
    {
     "name": "stdout",
     "output_type": "stream",
     "text": [
      "Parrot can fly\n",
      "Penguin can't fly\n"
     ]
    }
   ],
   "source": [
    "class Parrot:\n",
    "    def fly(self):\n",
    "        print(\"Parrot can fly\")\n",
    "    def swim(self):\n",
    "        print(\"Parrot can't fly\")\n",
    "class Penguin:\n",
    "    def fly(self):\n",
    "        print(\"Penguin can't fly\")\n",
    "    def swim(self):\n",
    "        print(\"Penguin can fly\")\n",
    "def flyingtes(bird):\n",
    "    bird.fly()\n",
    "blu=Parrot()\n",
    "peggy=Penguin()\n",
    "flyingtes(blu)\n",
    "flyingtes(peggy)"
   ]
  },
  {
   "cell_type": "code",
   "execution_count": 26,
   "metadata": {},
   "outputs": [
    {
     "name": "stdout",
     "output_type": "stream",
     "text": [
      "NO\n"
     ]
    }
   ],
   "source": [
    "s=input(\"Enter a string\")\n",
    "new=s[::-1]\n",
    "if(s==new):\n",
    "    print(\"Yes\")\n",
    "else:\n",
    "    print(\"NO\")\n"
   ]
  },
  {
   "cell_type": "code",
   "execution_count": 38,
   "metadata": {},
   "outputs": [
    {
     "name": "stdout",
     "output_type": "stream",
     "text": [
      "Name :kp\n",
      "USN :kp\n",
      "Total marks is  68\n",
      "Percentage : 22.67\n"
     ]
    }
   ],
   "source": [
    "name=input(\"ENter name of the student\")\n",
    "USN=input(\"ENter USn of student\")\n",
    "m1=int(input(\"Enter marks 1\"))\n",
    "m2=int(input(\"Enter marks 2\"))\n",
    "m3=int(input(\"Enter marks 3\"))\n",
    "total=m1+m2+m3\n",
    "percentage=total/3\n",
    "print(\"Name :\"+name)\n",
    "print(\"USN :\"+USN)\n",
    "print(\"Total marks is \",total)\n",
    "print(\"Percentage : %.2f\"%percentage)"
   ]
  },
  {
   "cell_type": "code",
   "execution_count": 41,
   "metadata": {},
   "outputs": [
    {
     "name": "stdout",
     "output_type": "stream",
     "text": [
      "KPaged 78 is a Senior citizen\n"
     ]
    }
   ],
   "source": [
    "from datetime import date\n",
    "name=input(\"Enter name of perseon\")\n",
    "year=int(input(\"Enter year of birth\"))\n",
    "age=date.today().year-year\n",
    "if age>=60:\n",
    "    print(name+\" aged\",age,\"is a Senior citizen\")\n",
    "else:\n",
    "    print(name+\" aged\",age,\"is not a Senior citizen\")"
   ]
  },
  {
   "cell_type": "code",
   "execution_count": 46,
   "metadata": {},
   "outputs": [
    {
     "name": "stdout",
     "output_type": "stream",
     "text": [
      "0\n",
      "1\n",
      "1\n",
      "2\n",
      "3\n",
      "5\n",
      "8\n",
      "13\n"
     ]
    }
   ],
   "source": [
    "n=int(input(\"Enter the number of terms\"))\n",
    "n1=0\n",
    "n2=1\n",
    "print(n1,n2,sep=\"\\n\")\n",
    "for i in range(n-2):\n",
    "    cur=n1+n2\n",
    "    print(cur)\n",
    "    n1=n2\n",
    "    n2=cur"
   ]
  },
  {
   "cell_type": "code",
   "execution_count": 48,
   "metadata": {},
   "outputs": [
    {
     "name": "stdout",
     "output_type": "stream",
     "text": [
      "70.0\n"
     ]
    }
   ],
   "source": [
    "def fact(n):\n",
    "    if n==0:\n",
    "        return 1\n",
    "    else:\n",
    "        return n*fact(n-1)\n",
    "n=int(input(\"Enter value for n\"))\n",
    "r=int(input(\"Enter value for r\"))\n",
    "if n>r:\n",
    "    sum=fact(n)/(fact(n-r)*fact(r))\n",
    "    print(sum)\n",
    "else:\n",
    "    print(\"no\")\n"
   ]
  },
  {
   "cell_type": "code",
   "execution_count": 49,
   "metadata": {},
   "outputs": [
    {
     "name": "stdout",
     "output_type": "stream",
     "text": [
      "The contents are \n",
      "[0, 3, 25, 47, 58, 69, 123]\n",
      "Mean is 46.43\n",
      "Variance is 1572.53\n",
      "SD is 39.66\n"
     ]
    }
   ],
   "source": [
    "n=int(input(\"Enter the number of elements\"))\n",
    "myl=[]\n",
    "sum=0\n",
    "for i in range(n):\n",
    "    a=int(input())\n",
    "    sum+=a\n",
    "    myl.append(a)\n",
    "print(\"The contents are \")\n",
    "print(myl)\n",
    "mean=sum/n\n",
    "print(\"Mean is %.2f\"%mean)\n",
    "sum=0\n",
    "for i in myl:\n",
    "    sum+=(i-mean)**2\n",
    "var=sum/n\n",
    "sd=var**.5\n",
    "print(\"Variance is %.2f\"%var)\n",
    "\n",
    "print(\"SD is %.2f\"%sd)"
   ]
  },
  {
   "cell_type": "code",
   "execution_count": 51,
   "metadata": {},
   "outputs": [
    {
     "name": "stdout",
     "output_type": "stream",
     "text": [
      "0 occurs 1 times\n",
      "1 occurs 1 times\n",
      "5 occurs 1 times\n",
      "9 occurs 2 times\n",
      "7 occurs 2 times\n",
      "6 occurs 1 times\n",
      "8 occurs 1 times\n",
      "3 occurs 1 times\n"
     ]
    }
   ],
   "source": [
    "num=input(\"Enter a number \")\n",
    "a=set(num)\n",
    "for i in a:\n",
    "    print(i,\"occurs\",num.count(i),\"times\")"
   ]
  },
  {
   "cell_type": "code",
   "execution_count": 78,
   "metadata": {},
   "outputs": [
    {
     "name": "stdout",
     "output_type": "stream",
     "text": [
      "*******Hello********\n"
     ]
    }
   ],
   "source": [
    "text = \"Hello\"\n",
    "centered_text = text.center(20,\"*\")\n",
    "print(centered_text)"
   ]
  },
  {
   "cell_type": "code",
   "execution_count": 5,
   "metadata": {},
   "outputs": [
    {
     "name": "stdout",
     "output_type": "stream",
     "text": [
      "8.25\n"
     ]
    }
   ],
   "source": [
    "num1 = 50\n",
    "num2 = 2\n",
    "num3 = 3\n",
    "num4 = 8\n",
    "result = num1/num4-num3*num2+num4\n",
    "print(result)"
   ]
  },
  {
   "cell_type": "code",
   "execution_count": 8,
   "metadata": {},
   "outputs": [
    {
     "name": "stdout",
     "output_type": "stream",
     "text": [
      "False\n",
      "True\n",
      "True\n",
      "False\n"
     ]
    }
   ],
   "source": [
    "print(\"Yes\" == \"Ok\")\n",
    "\n",
    "print(not(True and False))\n",
    "\n",
    "print(not(\"Landed\"==\"Landed\" and \"Flight\"==\"F101\"))\n",
    "\n",
    "print(1==1 and (not(1==1 or 1==0)))"
   ]
  }
 ],
 "metadata": {
  "kernelspec": {
   "display_name": "Python 3",
   "language": "python",
   "name": "python3"
  },
  "language_info": {
   "codemirror_mode": {
    "name": "ipython",
    "version": 3
   },
   "file_extension": ".py",
   "mimetype": "text/x-python",
   "name": "python",
   "nbconvert_exporter": "python",
   "pygments_lexer": "ipython3",
   "version": "3.12.7"
  },
  "orig_nbformat": 4
 },
 "nbformat": 4,
 "nbformat_minor": 2
}
