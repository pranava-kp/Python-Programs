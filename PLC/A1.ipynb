{
 "cells": [
  {
   "cell_type": "code",
   "execution_count": 1,
   "metadata": {},
   "outputs": [
    {
     "name": "stdout",
     "output_type": "stream",
     "text": [
      "name: Pranava\n",
      "usn no: 1RN22CS118\n",
      "maths: 85\n",
      "python: 97\n",
      "english: 95\n",
      "total marks obtained: 277\n",
      "percentage obtained:92.33 %\n"
     ]
    }
   ],
   "source": [
    "a=input(\"enter your name:\")\n",
    "b=input(\"USN NO:\")\n",
    "m1=int(input(\"maths:\"))\n",
    "m2=int(input(\"python:\"))\n",
    "m3=int(input(\"english:\"))\n",
    "s=m1+m2+m3\n",
    "p=(s/3)\n",
    "print(\"name:\",a)\n",
    "print(\"usn no:\",b)\n",
    "print(\"maths:\",m1)\n",
    "print(\"python:\",m2)\n",
    "print(\"english:\",m3)\n",
    "print(\"total marks obtained:\",s)\n",
    "print(\"percentage obtained:%0.2f\"%p,\"%\") "
   ]
  },
  {
   "cell_type": "code",
   "execution_count": 13,
   "metadata": {},
   "outputs": [
    {
     "name": "stdout",
     "output_type": "stream",
     "text": [
      "0\n",
      "1\n",
      "1\n",
      "2\n",
      "3\n",
      "5\n",
      "8\n",
      "13\n",
      "21\n",
      "34\n"
     ]
    }
   ],
   "source": [
    "n=int(input(\"Enter the number of terms\"))\n",
    "n1=0\n",
    "n2=1\n",
    "current=n1+n2\n",
    "print(n1,n2,sep=\"\\n\")\n",
    "for i in range (n-2):\n",
    "    current=n1+n2\n",
    "    print(current)\n",
    "    n1=n2\n",
    "    n2=current"
   ]
  },
  {
   "cell_type": "code",
   "execution_count": 1,
   "metadata": {},
   "outputs": [
    {
     "name": "stdout",
     "output_type": "stream",
     "text": [
      "Mukesh  aged  19  is not a senior citizen\n"
     ]
    }
   ],
   "source": [
    "from datetime import date\n",
    "name=input(\"Enter your name\")\n",
    "year=int(input(\"Enter the year of birth\"))\n",
    "age=date.today().year-year\n",
    "if(age>= 60):\n",
    "    print(name,\" aged \", age,\" is a senior citizen\")\n",
    "else:\n",
    "    print(name, \" aged \", age, \" is not a senior citizen\")"
   ]
  },
  {
   "cell_type": "code",
   "execution_count": 4,
   "metadata": {},
   "outputs": [
    {
     "name": "stdout",
     "output_type": "stream",
     "text": [
      "1\n"
     ]
    }
   ],
   "source": [
    "#import sys\n",
    "def fact(n):\n",
    "    if n==0:\n",
    "        return 1\n",
    "    else:\n",
    "        return n*fact(n-1)\n",
    "print(fact(1))"
   ]
  },
  {
   "cell_type": "code",
   "execution_count": 1,
   "metadata": {},
   "outputs": [
    {
     "name": "stdout",
     "output_type": "stream",
     "text": [
      "Enter element 1\n",
      "Enter element 2\n",
      "Enter element 3\n",
      "Enter element 4\n",
      "Enter element 5\n",
      "Enter element 6\n",
      "Enter element 7\n",
      "Number of element is 7\n",
      "The contents of the array are [0, 3, 25, 47, 58, 69, 123]\n",
      "Mean is 46.43\n",
      "Variance is 1572.53\n",
      "Standard deviatein is39.66\n"
     ]
    }
   ],
   "source": [
    "from math import sqrt\n",
    "mylist=[]\n",
    "num=int(input(\"Enter the number of elements : \"))\n",
    "for i in range(num):\n",
    "    print(\"Enter element\",i+1)\n",
    "    val=int(input())\n",
    "    mylist.append(val)\n",
    "'''for i in range(num):'''\n",
    "print(\"Number of element is\",len(mylist))\n",
    "print(\"The contents of the array are\",mylist)\n",
    "total=0\n",
    "for i in range(len(mylist)):\n",
    "    total+=+mylist[i]\n",
    "mean=total/num\n",
    "print(\"Mean is %.2f\"%mean)\n",
    "total=0\n",
    "for i in mylist:\n",
    "    total+=(i-mean)**2\n",
    "var=total/num\n",
    "sd=sqrt(var)\n",
    "print(\"Variance is %.2f\"%var)\n",
    "print(\"Standard deviatein is%.2f\"%sd)\n"
   ]
  },
  {
   "cell_type": "code",
   "execution_count": 15,
   "metadata": {},
   "outputs": [
    {
     "name": "stdout",
     "output_type": "stream",
     "text": [
      "6 occurs 1 times\n",
      "3 occurs 1 times\n",
      "9 occurs 2 times\n",
      "7 occurs 2 times\n",
      "5 occurs 1 times\n",
      "8 occurs 1 times\n",
      "0 occurs 1 times\n",
      "1 occurs 1 times\n"
     ]
    }
   ],
   "source": [
    "n=input(\"Enter a number\")\n",
    "uniqdig=set(n)\n",
    "for i in uniqdig:\n",
    "    print(i,\"occurs\",n.count(i),\"times\")"
   ]
  },
  {
   "cell_type": "code",
   "execution_count": 13,
   "metadata": {},
   "outputs": [
    {
     "name": "stdout",
     "output_type": "stream",
     "text": [
      "m= 2\n",
      "n= 1\n"
     ]
    }
   ],
   "source": [
    "a=['x','y','z']\n",
    "b=['a','b','c','a','b']\n",
    "m=a.index('z')\n",
    "n=b.index('b')\n",
    "print(\"m=\",m)\n",
    "print(\"n=\",n)"
   ]
  },
  {
   "cell_type": "code",
   "execution_count": 16,
   "metadata": {},
   "outputs": [
    {
     "name": "stdout",
     "output_type": "stream",
     "text": [
      "Tuple\n"
     ]
    }
   ],
   "source": [
    "x=(\"Tuple\",False,3.2,1)\n",
    "if type(x) is list:\n",
    "    print(\"List\")\n",
    "elif type(x) is tuple:\n",
    "    print(\"Tuple\")\n",
    "else:\n",
    "    print(type(x))"
   ]
  },
  {
   "cell_type": "code",
   "execution_count": 57,
   "metadata": {},
   "outputs": [
    {
     "name": "stdout",
     "output_type": "stream",
     "text": [
      "Enter a name: (blank to quit)\n",
      "Apr 1 is the birthday of Alice\n",
      "Enter a name: (blank to quit)\n",
      "I do not have birthday information for Pranava\n",
      "What is their birthday?\n",
      "Birthday database updated.\n"
     ]
    },
    {
     "ename": "AttributeError",
     "evalue": "'dict' object has no attribute 'sort'",
     "output_type": "error",
     "traceback": [
      "\u001b[1;31m---------------------------------------------------------------------------\u001b[0m",
      "\u001b[1;31mAttributeError\u001b[0m                            Traceback (most recent call last)",
      "Cell \u001b[1;32mIn[57], line 17\u001b[0m\n\u001b[0;32m     15\u001b[0m birthdays[name] \u001b[39m=\u001b[39m bday\n\u001b[0;32m     16\u001b[0m \u001b[39mprint\u001b[39m(\u001b[39m'\u001b[39m\u001b[39mBirthday database updated.\u001b[39m\u001b[39m'\u001b[39m)\n\u001b[1;32m---> 17\u001b[0m \u001b[39mprint\u001b[39m(birthdays\u001b[39m.\u001b[39;49msort(\u001b[39mlambda\u001b[39;00m x:x[\u001b[39m0\u001b[39m]))\n",
      "\u001b[1;31mAttributeError\u001b[0m: 'dict' object has no attribute 'sort'"
     ]
    }
   ],
   "source": [
    "birthdays = {'Alice': 'Apr 1', 'Bob': 'Dec 12', 'Carol': 'Mar 4'}\n",
    "\n",
    "while True:\n",
    "    print('Enter a name: (blank to quit)')\n",
    "    name = input()\n",
    "    if name == '':\n",
    "        break\n",
    "\n",
    "    if name in birthdays:\n",
    "        print(birthdays[name] + ' is the birthday of ' + name)\n",
    "    else:\n",
    "        print('I do not have birthday information for ' + name)\n",
    "        print('What is their birthday?')\n",
    "        bday = input()\n",
    "        birthdays[name] = bday\n",
    "        print('Birthday database updated.')\n",
    "        print(birthdays.sort(lambda x:x[0]))"
   ]
  },
  {
   "cell_type": "code",
   "execution_count": 13,
   "metadata": {},
   "outputs": [
    {
     "data": {
      "text/plain": [
       "'Alice'"
      ]
     },
     "execution_count": 13,
     "metadata": {},
     "output_type": "execute_result"
    }
   ],
   "source": [
    "birthdays = {'Alice': 'Apr 1', 'Bob': 'Dec 12', 'Carol': 'Mar 4'}\n",
    "k=(tuple(birthdays.items())[0][0])\n",
    "k"
   ]
  },
  {
   "cell_type": "code",
   "execution_count": 1,
   "metadata": {},
   "outputs": [],
   "source": [
    "#project\n",
    "\n",
    "import pyperclip\n",
    "text = pyperclip.paste()\n",
    "\n",
    "# Separate lines and add stars.\n",
    "lines = text.split('\\n')\n",
    "for i in range(len(lines)):    # loop through all indexes for \"lines\" list\n",
    "    lines[i] = '#* ' + lines[i] # add star to each string in \"lines\" list\n",
    "text = '\\n'.join(lines)\n",
    "pyperclip.copy(text)"
   ]
  },
  {
   "cell_type": "code",
   "execution_count": 22,
   "metadata": {},
   "outputs": [
    {
     "name": "stdout",
     "output_type": "stream",
     "text": [
      "[('t', 4), ('n', 2), ('h', 2), (' ', 2), ('A', 1), ('y', 1), ('i', 1), ('g', 1), ('b', 1), ('u', 1), ('a', 1)]\n"
     ]
    }
   ],
   "source": [
    "string1=\"Anything but that\"\n",
    "\n",
    "dict={}\n",
    "for i in string1:\n",
    "    dict.setdefault(i,0)\n",
    "    dict[i]+=1\n",
    "dict=sorted(dict.items(),key=lambda x:x[1],reverse=True)\n",
    "print(dict)"
   ]
  },
  {
   "cell_type": "code",
   "execution_count": 15,
   "metadata": {},
   "outputs": [
    {
     "name": "stdout",
     "output_type": "stream",
     "text": [
      "of occurs 13\n",
      "and occurs 13\n",
      "philosophy occurs 9\n",
      "the occurs 6\n",
      "is occurs 4\n",
      "in occurs 3\n",
      "like occurs 3\n",
      "are occurs 3\n",
      "a occurs 2\n",
      "study occurs 2\n"
     ]
    }
   ],
   "source": [
    "import sys,os.path,string\n",
    "f=input(\"Enter path\")\n",
    "if not os.path.isfile(f):\n",
    "    print(\"Invalid\")\n",
    "    sys.exit(0)\n",
    "infile=open(f,\"r\")\n",
    "filecontent=\"\"\n",
    "for i in infile:\n",
    "    for ch in i:\n",
    "        if ch not in string.punctuation:\n",
    "            filecontent+=ch\n",
    "        else:\n",
    "            filecontent+=\" \"\n",
    "wordfreq={}\n",
    "wordlist=filecontent.split()\n",
    "for i in wordlist:\n",
    "    wordfreq.setdefault(i,0)\n",
    "    wordfreq[i]+=1\n",
    "sortedwordfreq=sorted(wordfreq.items(),key=lambda x:x[1],reverse=True)\n",
    "for i in range(10):\n",
    "    print(sortedwordfreq[i][0],\"occurs\",sortedwordfreq[i][1])"
   ]
  },
  {
   "cell_type": "code",
   "execution_count": 7,
   "metadata": {},
   "outputs": [
    {
     "name": "stdout",
     "output_type": "stream",
     "text": [
      "['Philosophy (love of wisdom in ancient Greek) is a systematic study of general and fundamental questions concerning topics like existence, reason, knowledge, values, mind, and language. It is a rational and critical inquiry that reflects on its own methods and assumptions.\\n', 'Historically, many of the individual sciences, like physics and psychology, formed part of philosophy. But they are considered separate academic disciplines in the modern sense of the term. The main traditions in the history of philosophy include Western, Arabic-Persian, Indian, and Chinese philosophy.\\n', 'Major branches of philosophy are epistemology, ethics, logic, and metaphysics. Epistemology studies what knowledge is and how to acquire it. Ethics investigates moral principles and what constitutes right conduct. Logic is the study of correct reasoning and explores how good arguments can be distinguished from bad ones. Metaphysics examines the most general features of reality, like existence, objects and their properties, causation, space, and time. Other notable subfields are aesthetics, philosophy of language, philosophy of mind, philosophy of religion, philosophy of science, and political philosophy.']\n",
      "File exists\n",
      "Contents are \n",
      "Historically, many of the individual sciences, like physics and psychology, formed part of philosophy. But they are considered separate academic disciplines in the modern sense of the term. The main traditions in the history of philosophy include Western, Arabic-Persian, Indian, and Chinese philosophy.\n",
      "\n",
      "Major branches of philosophy are epistemology, ethics, logic, and metaphysics. Epistemology studies what knowledge is and how to acquire it. Ethics investigates moral principles and what constitutes right conduct. Logic is the study of correct reasoning and explores how good arguments can be distinguished from bad ones. Metaphysics examines the most general features of reality, like existence, objects and their properties, causation, space, and time. Other notable subfields are aesthetics, philosophy of language, philosophy of mind, philosophy of religion, philosophy of science, and political philosophy.\n",
      "\n",
      "Philosophy (love of wisdom in ancient Greek) is a systematic study of general and fundamental questions concerning topics like existence, reason, knowledge, values, mind, and language. It is a rational and critical inquiry that reflects on its own methods and assumptions.\n",
      "\n"
     ]
    }
   ],
   "source": [
    "import os.path,sys\n",
    "fname=input(\"Enter file name\")\n",
    "if not os.path.isfile(fname):\n",
    "    print(\"Invalid\")\n",
    "    sys.exit(0)\n",
    "infile=open(fname,\"r\")\n",
    "mylist=infile.readlines()\n",
    "print(mylist)\n",
    "linelist=[]\n",
    "for line in mylist:\n",
    "    linelist.append(line.strip(\"\\n\"))\n",
    "linelist.sort()\n",
    "outfile=open(\"sorted.txt\",\"w\")\n",
    "for line in linelist:\n",
    "    outfile.write(line+\"\\n\")\n",
    "infile.close()\n",
    "outfile.close()\n",
    "if os.path.isfile(\"sorted.txt\"):\n",
    "    print(\"File exists\")\n",
    "    print(\"Contents are \")\n",
    "    rdfile=open(\"sorted.txt\",\"r\")\n",
    "    for line in rdfile:\n",
    "        print(line)\n"
   ]
  },
  {
   "cell_type": "code",
   "execution_count": 47,
   "metadata": {},
   "outputs": [
    {
     "name": "stdout",
     "output_type": "stream",
     "text": [
      "olleh woh era uoy \n"
     ]
    }
   ],
   "source": [
    "stri=\"hello how are you\"\n",
    "l1=stri.split(\" \")\n",
    "l2=[]\n",
    "for i in range(len(l1)):\n",
    "    l2.append(l1[i][::-1])\n",
    "str2=\"\"\n",
    "for i in l2:\n",
    "    str2+=i+\" \"\n",
    "print(str2)"
   ]
  },
  {
   "cell_type": "code",
   "execution_count": 49,
   "metadata": {},
   "outputs": [
    {
     "data": {
      "text/plain": [
       "'pYTHON'"
      ]
     },
     "execution_count": 49,
     "metadata": {},
     "output_type": "execute_result"
    }
   ],
   "source": [
    "stri=\"Python\"\n",
    "str2=\"\"\n",
    "for i in stri:\n",
    "    if i.isupper():\n",
    "        str2+=i.lower()\n",
    "    else:\n",
    "        str2+=i.upper()\n",
    "str2"
   ]
  },
  {
   "cell_type": "code",
   "execution_count": 27,
   "metadata": {},
   "outputs": [
    {
     "name": "stdout",
     "output_type": "stream",
     "text": [
      "nay\n",
      "c:\\Users\\prana\\OneDrive\\UNI\\Programming\n"
     ]
    }
   ],
   "source": [
    "import os.path\n",
    "p=\"C:\\\\Windows\\\\System32\\\\calc.exe\"\n",
    "b=os.path.relpath(os.getcwd())\n",
    "c=os.path.abspath('..')\n",
    "if(b==c):\n",
    "    print(\"Yay\")\n",
    "else:\n",
    "    print(\"nay\")\n",
    "print (c)\n"
   ]
  },
  {
   "cell_type": "code",
   "execution_count": 40,
   "metadata": {},
   "outputs": [
    {
     "name": "stdout",
     "output_type": "stream",
     "text": [
      "['P', 'r', 'a', 'n', 'a', 'a']\n",
      "['P', 'r', 'a', 'n', 'a', 'a']\n"
     ]
    }
   ],
   "source": [
    "import string,copy\n",
    "name=\"Pranava\"\n",
    "str1=list(name)\n",
    "str2=copy.copy(str1)\n",
    "str1.pop(str1.index('v'))\n",
    "del str2[str2.index('v')]\n",
    "print(str1)\n",
    "print(str2)"
   ]
  },
  {
   "cell_type": "code",
   "execution_count": 12,
   "metadata": {},
   "outputs": [
    {
     "name": "stdout",
     "output_type": "stream",
     "text": [
      "Result: 0.3333333333333333\n"
     ]
    }
   ],
   "source": [
    "import sys\n",
    "def DivExp(a, b):\n",
    "    assert a > 0, \"A must be greater than 0\"\n",
    "    \n",
    "    try:\n",
    "        c = a / b\n",
    "    except ZeroDivisionError:\n",
    "        print(\"Cannot divide by zero.\")\n",
    "        sys.exit(1)  # Use 1 as the exit code to indicate an error.\n",
    "    else:\n",
    "        return c\n",
    "\n",
    "n1 = int(input(\"Enter number 1: \"))\n",
    "n2 = int(input(\"Enter number 2: \"))\n",
    "n3 = DivExp(n1, n2)\n",
    "print(\"Result:\", n3)\n"
   ]
  },
  {
   "cell_type": "code",
   "execution_count": null,
   "metadata": {},
   "outputs": [],
   "source": [
    "import sys\n",
    "import os.path\n",
    "import pathlib\n",
    "import zipfile\n",
    "dirName=input(\"Enter Dictionary name that you want to backup\")\n",
    "if not os.path.isdir(dirName):\n",
    "    print(\"Directory\",dirName,\"does not exist\")\n",
    "    sys.exit(0)\n",
    "curDirectory=pathlib.Path(dirName)\n",
    "with zipfile.ZipFile(\"myZip.zip\",mode=\"w\")as archive:\n",
    "    for file_path in curDirectory.rglob(\"*\"):\n",
    "        archive.write(file_path,arcname=file_path.relative_to(curDirectory))\n",
    "if os.path.isfile(\"myZip.zip\"):\n",
    "    print(\"Archive\",\"myZip.zip\",\"Created successfully\")\n",
    "else:\n",
    "    print(\"Error in creating zip archive\")\n"
   ]
  },
  {
   "cell_type": "code",
   "execution_count": 19,
   "metadata": {},
   "outputs": [
    {
     "name": "stdout",
     "output_type": "stream",
     "text": [
      "Object 1\n",
      "Object 2\n",
      "Entered complex numbers are \n",
      "(5)+i(7)\n",
      "(9)+i(11)\n",
      "\n",
      " Sum of n complex numbers is (14)+i(18)\n",
      "complex number 1\n",
      "(3)+i(5)\n",
      "complex number 2\n",
      "(6)+i(4)\n",
      "Sum of two complexes is \n",
      "(9)+i(9)\n"
     ]
    }
   ],
   "source": [
    "class Complex:\n",
    "    def __init__(self,realp=0,imagp=0):\n",
    "        self.realp=realp\n",
    "        self.imagp=imagp\n",
    "    def setComplex(self,realp,imagp):\n",
    "        self.realp=realp\n",
    "        self.imagp=imagp\n",
    "    def readComplex(self):\n",
    "        self.realp=int(input(\"Enter real part\\n\"))\n",
    "        self.imagp=int(input(\"Enter imaginary part\\n\"))\n",
    "    def showComplex(self):\n",
    "        print(\"(\",self.realp,\")+i(\",self.imagp,\")\",sep=\"\")\n",
    "    def addComplex(self,c2):\n",
    "        c3=Complex()\n",
    "        c3.realp=self.realp+c2.realp\n",
    "        c3.imagp=self.imagp+c2.imagp\n",
    "        return c3\n",
    "def add2Complex(a,b):\n",
    "    c=a.addComplex(b)\n",
    "    return c\n",
    "def main():\n",
    "    c1=Complex(3,5)\n",
    "    c2=Complex(6,4)\n",
    "    print(\"complex number 1\")\n",
    "    c1.showComplex()\n",
    "    print(\"complex number 2\")\n",
    "    c2.showComplex()\n",
    "    c3=add2Complex(c1,c2)   \n",
    "    print(\"Sum of two complexes is \")\n",
    "    c3.showComplex()\n",
    "compList=[]\n",
    "num=int(input(\"\\nEnter the value for N\\n\"))\n",
    "for i in range (num):\n",
    "    print(\"Object\",i+1)\n",
    "    obj=Complex()\n",
    "    obj.readComplex()\n",
    "    compList.append(obj)\n",
    "print(\"Entered complex numbers are \")\n",
    "for obj in compList:\n",
    "    obj.showComplex()\n",
    "sumObj=Complex()\n",
    "for obj in compList:\n",
    "    sumObj=add2Complex(sumObj,obj)\n",
    "print(\"\\nSum of n complex numbers is \",end=\"\")\n",
    "sumObj.showComplex()\n",
    "main()"
   ]
  },
  {
   "cell_type": "code",
   "execution_count": 21,
   "metadata": {},
   "outputs": [
    {
     "name": "stdout",
     "output_type": "stream",
     "text": [
      "Object 1\n",
      "Object 2\n",
      "Entered complex numbers are \n",
      "(5)+i(7)\n",
      "(9)+i(11)\n",
      "\n",
      "Sum of n complex numbers is (14)+i(18)\n"
     ]
    }
   ],
   "source": [
    "class Complex:\n",
    "    def __init__(self,realp=0,imagp=0):\n",
    "        self.realp=realp\n",
    "        self.imagp=imagp\n",
    "    def readComplex(self):\n",
    "        self.realp=int(input(\"Enter real part\\n\"))\n",
    "        self.imagp=int(input(\"Enter imaginary part\\n\"))\n",
    "    def showComplex(self):\n",
    "        print(\"(\",self.realp,\")+i(\",self.imagp,\")\",sep=\"\")\n",
    "    def addComplex(self,c2):\n",
    "        c3=Complex()\n",
    "        c3.realp=self.realp+c2.realp\n",
    "        c3.imagp=self.imagp+c2.imagp\n",
    "        return c3\n",
    "def add2Complex(a,b):\n",
    "    c=a.addComplex(b)\n",
    "    return c\n",
    "compList=[]\n",
    "num=int(input(\"\\nEnter the value for N\\n\"))\n",
    "for i in range (num):\n",
    "    print(\"Object\",i+1)\n",
    "    obj=Complex()\n",
    "    obj.readComplex()\n",
    "    compList.append(obj)\n",
    "print(\"Entered complex numbers are \")\n",
    "for obj in compList:\n",
    "    obj.showComplex()\n",
    "sumObj=Complex()\n",
    "for obj in compList:\n",
    "    sumObj=add2Complex(sumObj,obj)\n",
    "print(\"\\nSum of n complex numbers is \",end=\"\")\n",
    "sumObj.showComplex()      "
   ]
  },
  {
   "cell_type": "code",
   "execution_count": 24,
   "metadata": {},
   "outputs": [
    {
     "name": "stdout",
     "output_type": "stream",
     "text": [
      "********************************************************************************\n",
      "                               Score Card Details                               \n",
      "********************************************************************************\n",
      "CH2K4\n",
      "CS118\n",
      "150\n",
      "50.0\n",
      "********************************************************************************\n"
     ]
    },
    {
     "ename": "",
     "evalue": "",
     "output_type": "error",
     "traceback": [
      "\u001b[1;31mThe Kernel crashed while executing code in the the current cell or a previous cell. Please review the code in the cell(s) to identify a possible cause of the failure. Click <a href='https://aka.ms/vscodeJupyterKernelCrash'>here</a> for more info. View Jupyter <a href='command:jupyter.viewOutput'>log</a> for further details."
     ]
    }
   ],
   "source": [
    "class Student:\n",
    "    def __init__(self,name=\"\",USn=\"\",score=[0,0,0,0]):\n",
    "        self.name=name\n",
    "        self.USN=USn\n",
    "        self.score=score\n",
    "    def getmarks(self):\n",
    "        self.name=input(\"Enter name\\n\")\n",
    "        self.USN=input(\"Enter USN\\n\")\n",
    "        self.score[0]=int(input(\"Enter marks 1 \"))\n",
    "        self.score[1]=int(input(\"Enter marks 2 \"))\n",
    "        self.score[2]=int(input(\"Enter marks 3 \"))\n",
    "        self.score[3]=self.score[0]+self.score[1]+self.score[2]\n",
    "    def display(self):\n",
    "        percentage=self.score[3]/3\n",
    "        spstr=\"*\"*80\n",
    "        print(spstr)\n",
    "        print(\"Score Card Details\".center(80))\n",
    "        print(spstr)\n",
    "        print(self.name)\n",
    "        print(self.USN)\n",
    "        print(self.score[3])\n",
    "        print(percentage)\n",
    "        print(spstr)\n",
    "def main():\n",
    "    s1=Student()\n",
    "    s1.getmarks()\n",
    "    s1.display()\n",
    "main()\n"
   ]
  }
 ],
 "metadata": {
  "kernelspec": {
   "display_name": "Python 3",
   "language": "python",
   "name": "python3"
  },
  "language_info": {
   "codemirror_mode": {
    "name": "ipython",
    "version": 3
   },
   "file_extension": ".py",
   "mimetype": "text/x-python",
   "name": "python",
   "nbconvert_exporter": "python",
   "pygments_lexer": "ipython3",
   "version": "3.11.7"
  },
  "orig_nbformat": 4
 },
 "nbformat": 4,
 "nbformat_minor": 2
}
