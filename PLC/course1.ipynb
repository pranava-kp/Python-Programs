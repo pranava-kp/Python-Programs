{
 "cells": [
  {
   "cell_type": "code",
   "execution_count": 2,
   "metadata": {},
   "outputs": [
    {
     "name": "stdout",
     "output_type": "stream",
     "text": [
      "2.0\n"
     ]
    }
   ],
   "source": [
    "num1=11//10\n",
    "\n",
    "num2=11%10\n",
    "\n",
    "num3=20\n",
    "\n",
    "num4=40\n",
    "\n",
    "num5=5\n",
    "\n",
    "if (num3>num4):\n",
    "\n",
    "    if (num3>num5):\n",
    "\n",
    "        print (num5*num4/num3)\n",
    "\n",
    "    else:\n",
    "        print(num3/num5)\n",
    "\n",
    "else:\n",
    "\n",
    "    if (num1==num2):\n",
    "\n",
    "        print (num4/num3)\n",
    "\n",
    "    else:\n",
    "\n",
    "        print(num4/num5)"
   ]
  },
  {
   "cell_type": "code",
   "execution_count": 3,
   "metadata": {},
   "outputs": [
    {
     "name": "stdout",
     "output_type": "stream",
     "text": [
      "['FA2', 95]\n",
      "['FA2', 'FA3', 95]\n",
      "['FA2', 85]\n",
      "['FA2', 85]\n"
     ]
    }
   ],
   "source": [
    "marks=[\"FAI\", 80, \"FA2\", 85, \"FA3\",95]\n",
    "\n",
    "report=marks[-4:]\n",
    "\n",
    "\n",
    "\n",
    "print(report[:1]+marks[5:])\n",
    "\n",
    "print(marks[2:3]+marks[-2:])\n",
    "\n",
    "print(marks[-4:-2])\n",
    "\n",
    "print(report[:2])"
   ]
  },
  {
   "cell_type": "code",
   "execution_count": 5,
   "metadata": {},
   "outputs": [
    {
     "name": "stdout",
     "output_type": "stream",
     "text": [
      "False\n",
      "False\n",
      "False\n",
      "True\n",
      "True\n"
     ]
    }
   ],
   "source": [
    "var1=5\n",
    "\n",
    "var2=-5\n",
    "\n",
    "var3=1\n",
    "\n",
    "var4=1\n",
    "\n",
    "var5=0\n",
    "\n",
    "print((var1+var2)>(var3/var4) and var5<=(var1-var3*var2))\n",
    "\n",
    "print( not ((var3>=var4) and (var3==var4)))\n",
    "\n",
    "print(not ((var4>=var2) or (var1==var3)))\n",
    "\n",
    "print((var4>=var2) and (var1>=var2))\n",
    "\n",
    "print((var3==var4) and (var1>var2))"
   ]
  },
  {
   "cell_type": "code",
   "execution_count": 6,
   "metadata": {},
   "outputs": [
    {
     "name": "stdout",
     "output_type": "stream",
     "text": [
      "True\n",
      "True\n",
      "False\n",
      "True\n"
     ]
    }
   ],
   "source": [
    "var1=7\n",
    "var2=6\n",
    "var3=3\n",
    "print((var1+var2)>(var3) and (var1*var2+var3)>=(var3+var1))\n",
    "print((var1*var2)>(var3*var1) and (var1*var2)<=(var1*var2*var3))\n",
    "print((var1*var3)>(var1*var2*var3) or (var1*var3)<=(var2*var3))\n",
    "print(not((var1*var3)>(var3*var1) and (var1*var3)<=(var2*var3)))"
   ]
  },
  {
   "cell_type": "code",
   "execution_count": 7,
   "metadata": {},
   "outputs": [
    {
     "name": "stdout",
     "output_type": "stream",
     "text": [
      "0 10\n",
      "1 9\n",
      "2 8\n",
      "3 7\n",
      "4 6\n"
     ]
    }
   ],
   "source": [
    "var1=0\n",
    "\n",
    "var2=10\n",
    "\n",
    "while var1<=10 and var2>=1:\n",
    "\n",
    "    print (var1, var2)\n",
    "\n",
    "    var2=var2-1\n",
    "\n",
    "    var1=var1+1\n",
    "\n",
    "    if (var1==var2):\n",
    "\n",
    "        break"
   ]
  },
  {
   "cell_type": "code",
   "execution_count": 8,
   "metadata": {},
   "outputs": [
    {
     "name": "stdout",
     "output_type": "stream",
     "text": [
      "2 None\n"
     ]
    }
   ],
   "source": [
    "def func(sample, res, key, val):\n",
    "\n",
    "    if (key in sample):\n",
    "\n",
    "        res=True\n",
    "\n",
    "        sample.update({key:val})\n",
    "\n",
    "    res=False\n",
    "\n",
    "res=None\n",
    "\n",
    "sample={\"XS\": 1, \"X\":0,\"XL\":3,\"XXL\":4}\n",
    "func(sample, res, \"X\",2)\n",
    "print(sample[\"X\"], res)"
   ]
  },
  {
   "cell_type": "code",
   "execution_count": 9,
   "metadata": {},
   "outputs": [
    {
     "name": "stdout",
     "output_type": "stream",
     "text": [
      "1\n",
      "4\n",
      "9\n",
      "16\n",
      "25\n"
     ]
    }
   ],
   "source": [
    "for var1 in range(1,6):\n",
    "    for var2 in range(1,6):\n",
    "        if (var1%var2!=0):\n",
    "            pass\n",
    "        elif (var2<var1):\n",
    "            continue\n",
    "        else:\n",
    "            print(var1*var2)"
   ]
  },
  {
   "cell_type": "code",
   "execution_count": 11,
   "metadata": {},
   "outputs": [
    {
     "name": "stdout",
     "output_type": "stream",
     "text": [
      "Before swapping: name1=Roger name2=Robert\n",
      "After swapping: namel=Roger name2=Robert\n"
     ]
    }
   ],
   "source": [
    "name1=\"Roger\"\n",
    "name2=\"Robert\"\n",
    "def swap_names (name1, name2):\n",
    "    temp=name1\n",
    "    name1=name2\n",
    "    name2=temp\n",
    "print(\"Before swapping: name1=\"+name1+\" name2=\"+name2)\n",
    "swap_names (name1, name2)\n",
    "print(\"After swapping: namel=\"+name1+\" name2=\"+name2)"
   ]
  },
  {
   "cell_type": "code",
   "execution_count": 12,
   "metadata": {},
   "outputs": [
    {
     "name": "stdout",
     "output_type": "stream",
     "text": [
      "ALL  that  glitters  is  not  gold  [3, 4, 8, 2, 3, 4]\n"
     ]
    }
   ],
   "source": [
    "my_str=\"ALL3 that4 glitters8 is2 not3 gold4\"\n",
    "my_lst=[]\n",
    "\n",
    "for char in my_str:\n",
    "\n",
    "    if(char.isdigit()):\n",
    "        my_lst.append((int) (char))\n",
    "        my_str=my_str.replace(char,\" \")\n",
    "\n",
    "print(my_str,my_lst)"
   ]
  },
  {
   "cell_type": "code",
   "execution_count": 14,
   "metadata": {},
   "outputs": [
    {
     "name": "stdout",
     "output_type": "stream",
     "text": [
      "ALL3 that4 glitters8 is2 not3 gold4 ['3', '4', '8', '2', '3', '4']\n"
     ]
    }
   ],
   "source": [
    "my_str=\"ALL3 that4 glitters8 is2 not3 gold4\"\n",
    "my_lst=[]\n",
    "\n",
    "for char in my_str:\n",
    "\n",
    "    if(char.isdigit()):\n",
    "        my_lst.append(char)\n",
    "        my_str.replace(char,\" \")\n",
    "        #print(my_str,my_lst)\n",
    "print(my_str,my_lst)"
   ]
  },
  {
   "cell_type": "code",
   "execution_count": 15,
   "metadata": {},
   "outputs": [
    {
     "name": "stdout",
     "output_type": "stream",
     "text": [
      "A 2\n",
      "B 4\n",
      "C 2\n",
      "D 5\n",
      "E 4\n"
     ]
    }
   ],
   "source": [
    "list1= [1,2,1,3,3,1,2,1,2,1]\n",
    "tuple1=(\"A\", \"B\", \"C\", \"D\")\n",
    "tuple1+=(\"E\",)\n",
    "list2=[]\n",
    "\n",
    "for var1 in range(5, len(list1)):\n",
    "    list2.append(list1 [var1-5]+list1[var1])\n",
    "\n",
    "for var1 in range(0,len (list2)):\n",
    "    print(tuple1 [var1], list2 [var1])"
   ]
  },
  {
   "cell_type": "code",
   "execution_count": 17,
   "metadata": {},
   "outputs": [
    {
     "name": "stdout",
     "output_type": "stream",
     "text": [
      "3\n"
     ]
    }
   ],
   "source": [
    "import math\n",
    "temp=[ 'Mysore', 'Bangalore', 'Pune', 'Chennai']\n",
    "\n",
    "temp.sort()\n",
    "\n",
    "count1=len(temp[0])\n",
    "\n",
    "count2=len(temp[-1])\n",
    "\n",
    "final_val=math.ceil(count1/count2)\n",
    "\n",
    "print (final_val)"
   ]
  },
  {
   "cell_type": "code",
   "execution_count": 18,
   "metadata": {},
   "outputs": [
    {
     "name": "stdout",
     "output_type": "stream",
     "text": [
      "Count : 2\n",
      "mack AND mill went up THE hill\n"
     ]
    }
   ],
   "source": [
    "code=\"jack and jill went up the hill\"\n",
    "\n",
    "for temp in code.split():\n",
    "\n",
    "    if(temp.endswith(\"ill\")):\n",
    "\n",
    "        print(\"Count :\",code.count(\"ill\"))\n",
    "\n",
    "        break\n",
    "\n",
    "code=code.replace(\"j\",\"m\")\n",
    "\n",
    "for temp in code.split():\n",
    "\n",
    "    if(len(temp)%2!=0):\n",
    "\n",
    "        temp_string=(str) (temp)\n",
    "\n",
    "        code=code.replace(temp_string, temp_string.upper())\n",
    "\n",
    "print(code)"
   ]
  },
  {
   "cell_type": "code",
   "execution_count": null,
   "metadata": {},
   "outputs": [],
   "source": []
  }
 ],
 "metadata": {
  "kernelspec": {
   "display_name": "Python 3",
   "language": "python",
   "name": "python3"
  },
  "language_info": {
   "codemirror_mode": {
    "name": "ipython",
    "version": 3
   },
   "file_extension": ".py",
   "mimetype": "text/x-python",
   "name": "python",
   "nbconvert_exporter": "python",
   "pygments_lexer": "ipython3",
   "version": "3.11.6"
  }
 },
 "nbformat": 4,
 "nbformat_minor": 2
}
