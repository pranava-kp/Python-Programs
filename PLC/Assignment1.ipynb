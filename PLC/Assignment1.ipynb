{
 "cells": [
  {
   "cell_type": "code",
   "execution_count": 1,
   "metadata": {},
   "outputs": [
    {
     "ename": "ValueError",
     "evalue": "invalid literal for int() with base 10: ''",
     "output_type": "error",
     "traceback": [
      "\u001b[1;31m---------------------------------------------------------------------------\u001b[0m",
      "\u001b[1;31mValueError\u001b[0m                                Traceback (most recent call last)",
      "Cell \u001b[1;32mIn[1], line 1\u001b[0m\n\u001b[1;32m----> 1\u001b[0m n\u001b[39m=\u001b[39m\u001b[39mint\u001b[39;49m(\u001b[39minput\u001b[39;49m(\u001b[39m\"\u001b[39;49m\u001b[39mEnter the numbr of elements\u001b[39;49m\u001b[39m\"\u001b[39;49m))\n\u001b[0;32m      2\u001b[0m \u001b[39msum\u001b[39m\u001b[39m=\u001b[39m\u001b[39m0\u001b[39m\n\u001b[0;32m      3\u001b[0m \u001b[39mfor\u001b[39;00m i \u001b[39min\u001b[39;00m \u001b[39mrange\u001b[39m(n):\n",
      "\u001b[1;31mValueError\u001b[0m: invalid literal for int() with base 10: ''"
     ]
    }
   ],
   "source": [
    "#Question number 5\n",
    "n=int(input(\"Enter the numbr of elements\"))\n",
    "sum=0\n",
    "for i in range(n):\n",
    "    print(\"Enter element \",i+1)\n",
    "    v=int(input())\n",
    "    sum+=v\n",
    "print(\"Sum of all elements is \",sum)"
   ]
  },
  {
   "cell_type": "code",
   "execution_count": 25,
   "metadata": {},
   "outputs": [
    {
     "name": "stdout",
     "output_type": "stream",
     "text": [
      "Not\n"
     ]
    }
   ],
   "source": [
    "#Question number 7\n",
    "def pal(stri):\n",
    "    return stri[::-1]\n",
    "val=input(\"Enter a string\")\n",
    "val1=pal(val)\n",
    "if(val1 == val):\n",
    "    print(\"Palindrome\")\n",
    "else:\n",
    "    print(\"Not\")"
   ]
  },
  {
   "cell_type": "code",
   "execution_count": 33,
   "metadata": {},
   "outputs": [
    {
     "name": "stdout",
     "output_type": "stream",
     "text": [
      "Enter element  1\n",
      "Enter element  2\n",
      "Enter element  3\n",
      "Enter element  4\n",
      "Enter element  5\n",
      "The list is \n",
      "[69, 87, 45, 112, 368]\n",
      "The list without ODD numbers is \n",
      "[112, 368]\n"
     ]
    }
   ],
   "source": [
    "#Question number 8\n",
    "n=int(input(\"Enter the number of elements\"))\n",
    "A=[]\n",
    "for i in range (n):\n",
    "    print(\"Enter element \",i+1)\n",
    "    val=int(input())\n",
    "    A.append(val)\n",
    "print(\"The list is \")\n",
    "print(A)\n",
    "Acopy=[]\n",
    "for i in A:\n",
    "    if(i%2==0):\n",
    "        Acopy.append(i)\n",
    "print(\"The list without ODD numbers is \")\n",
    "print(Acopy)"
   ]
  },
  {
   "cell_type": "code",
   "execution_count": 19,
   "metadata": {},
   "outputs": [
    {
     "name": "stdout",
     "output_type": "stream",
     "text": [
      "['hello', 'how', [1, 2, 3], [[10, 20, 30]]]\n",
      "h\n",
      "[1, 2]\n",
      "olleh\n"
     ]
    }
   ],
   "source": [
    "a=['hello','how', [1,2,3], [[10,20,30]]]\n",
    "print( a[ : : ] )\n",
    "print(a[-3][0])\n",
    "print(a[2][ : -1])\n",
    "print(a[0][ : : -1])"
   ]
  }
 ],
 "metadata": {
  "kernelspec": {
   "display_name": "Python 3",
   "language": "python",
   "name": "python3"
  },
  "language_info": {
   "codemirror_mode": {
    "name": "ipython",
    "version": 3
   },
   "file_extension": ".py",
   "mimetype": "text/x-python",
   "name": "python",
   "nbconvert_exporter": "python",
   "pygments_lexer": "ipython3",
   "version": "3.11.6"
  },
  "orig_nbformat": 4
 },
 "nbformat": 4,
 "nbformat_minor": 2
}
